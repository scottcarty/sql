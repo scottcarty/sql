{
 "cells": [
  {
   "cell_type": "markdown",
   "metadata": {},
   "source": [
    "# Load DIMs to volatile tables"
   ]
  },
  {
   "cell_type": "code",
   "execution_count": 1,
   "metadata": {},
   "outputs": [
    {
     "name": "stdin",
     "output_type": "stream",
     "text": [
      "enter password ············\n"
     ]
    }
   ],
   "source": [
    "import getpass\n",
    "pwd = getpass.getpass('enter password')"
   ]
  },
  {
   "cell_type": "code",
   "execution_count": 2,
   "metadata": {},
   "outputs": [],
   "source": [
    "from teradataml import *\n",
    "transcend = create_context(host='tdprdcop3.td.teradata.com', username='sh186014',  logmech='LDAP', password=pwd)"
   ]
  },
  {
   "cell_type": "code",
   "execution_count": 5,
   "metadata": {},
   "outputs": [
    {
     "name": "stdout",
     "output_type": "stream",
     "text": [
      "uploading dim_app.csv\n",
      "  done!\n",
      "uploading dim_feature.csv\n",
      "  done!\n",
      "uploading dim_statement.csv\n",
      "  done!\n",
      "uploading dim_tablekind.csv\n",
      "  done!\n",
      "uploading dim_user.csv\n",
      "  done!\n"
     ]
    }
   ],
   "source": [
    "import pandas as pd\n",
    "dims = ['dim_app.csv', 'dim_feature.csv', 'dim_statement.csv', 'dim_tablekind.csv','dim_user.csv']\n",
    "\n",
    "for dim in dims:\n",
    "    print('uploading %s' %dim)\n",
    "    dfcsv = pd.read_csv(dim)\n",
    "    copy_to_sql(dfcsv, table_name = dim, schema_name = 'adlste_coa', if_exists = 'replace')\n",
    "    print('  done!')"
   ]
  },
  {
   "cell_type": "code",
   "execution_count": null,
   "metadata": {},
   "outputs": [],
   "source": []
  }
 ],
 "metadata": {
  "kernelspec": {
   "display_name": "Python 3",
   "language": "python",
   "name": "python3"
  },
  "language_info": {
   "codemirror_mode": {
    "name": "ipython",
    "version": 3
   },
   "file_extension": ".py",
   "mimetype": "text/x-python",
   "name": "python",
   "nbconvert_exporter": "python",
   "pygments_lexer": "ipython3",
   "version": "3.6.7"
  }
 },
 "nbformat": 4,
 "nbformat_minor": 2
}
