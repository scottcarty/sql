{
 "cells": [
  {
   "cell_type": "markdown",
   "metadata": {},
   "source": [
    "# Define Audit Process"
   ]
  },
  {
   "cell_type": "code",
   "execution_count": null,
   "metadata": {},
   "outputs": [],
   "source": [
    "%addconnect name=Transcend, user=sh186014, host=tdprdcop3.td.teradata.com, props=\"LOGMECH=LDAP\""
   ]
  },
  {
   "cell_type": "code",
   "execution_count": 2,
   "metadata": {},
   "outputs": [
    {
     "ename": "ERROR",
     "evalue": "Password is required",
     "output_type": "error",
     "traceback": [
      "Password is required"
     ]
    }
   ],
   "source": [
    "%connect name=Transcend"
   ]
  },
  {
   "cell_type": "code",
   "execution_count": 3,
   "metadata": {},
   "outputs": [
    {
     "data": {
      "text/plain": [
       "Success: 0 rows affected"
      ]
     },
     "execution_count": 3,
     "metadata": {
      "application/vnd.teradata.resultset": ""
     },
     "output_type": "execute_result"
    }
   ],
   "source": [
    "call adlste_coa.sp_meta_objects_refresh('none');"
   ]
  },
  {
   "cell_type": "code",
   "execution_count": 4,
   "metadata": {},
   "outputs": [
    {
     "data": {
      "application/vnd.teradata.resultset": "[{\"DatabaseName\":\"ADLSTE_COA\",\"ObjFunction\":\"mat\",\"ObjType\":\"coa\",\"ProcessName\":\"csi_cod\",\"TableKind\":\"V \",\"TableName\":\"coa_mat_csi_cod\"},{\"DatabaseName\":\"ADLSTE_COA\",\"ObjFunction\":\"mat\",\"ObjType\":\"coa\",\"ProcessName\":\"csi_node_day\",\"TableKind\":\"V \",\"TableName\":\"coa_mat_csi_node_day\"},{\"DatabaseName\":\"ADLSTE_COA\",\"ObjFunction\":\"mat\",\"ObjType\":\"coa\",\"ProcessName\":\"csi_siteid_day\",\"TableKind\":\"V \",\"TableName\":\"coa_mat_csi_siteid_day\"},{\"DatabaseName\":\"ADLSTE_COA\",\"ObjFunction\":\"mat\",\"ObjType\":\"coa\",\"ProcessName\":\"csi_siteid_node_day\",\"TableKind\":\"V \",\"TableName\":\"coa_mat_csi_siteid_node_day\"},{\"DatabaseName\":\"ADLSTE_COA\",\"ObjFunction\":\"mat\",\"ObjType\":\"coa\",\"ProcessName\":\"gtm_customer\",\"TableKind\":\"V \",\"TableName\":\"coa_mat_gtm_customer\"},{\"DatabaseName\":\"ADLSTE_COA\",\"ObjFunction\":\"mat\",\"ObjType\":\"coa\",\"ProcessName\":\"oae_array_day\",\"TableKind\":\"V \",\"TableName\":\"coa_mat_oae_array_day\"},{\"DatabaseName\":\"ADLSTE_COA\",\"ObjFunction\":\"mat\",\"ObjType\":\"coa\",\"ProcessName\":\"sales_contact\",\"TableKind\":\"V \",\"TableName\":\"coa_mat_sales_contact\"},{\"DatabaseName\":\"ADLSTE_COA\",\"ObjFunction\":\"mat\",\"ObjType\":\"coa\",\"ProcessName\":\"sales_role_qlid\",\"TableKind\":\"V \",\"TableName\":\"coa_mat_sales_role_qlid\"},{\"DatabaseName\":\"ADLSTE_COA\",\"ObjFunction\":\"mat\",\"ObjType\":\"coa\",\"ProcessName\":\"shc_node_count3\",\"TableKind\":\"V \",\"TableName\":\"coa_mat_shc_node_count3\"},{\"DatabaseName\":\"ADLSTE_COA\",\"ObjFunction\":\"mat\",\"ObjType\":\"coa\",\"ProcessName\":\"shc_siteid_day_Coverage\",\"TableKind\":\"V \",\"TableName\":\"coa_mat_shc_siteid_day_Coverage\"},{\"DatabaseName\":\"ADLSTE_COA\",\"ObjFunction\":\"mat\",\"ObjType\":\"coa\",\"ProcessName\":\"shc_siteid_hr\",\"TableKind\":\"V \",\"TableName\":\"coa_mat_shc_siteid_hr\"},{\"DatabaseName\":\"ADLSTE_COA\",\"ObjFunction\":\"mat\",\"ObjType\":\"coa\",\"ProcessName\":\"shc_siteid_hr_IO\",\"TableKind\":\"V \",\"TableName\":\"coa_mat_shc_siteid_hr_IO\"},{\"DatabaseName\":\"ADLSTE_COA\",\"ObjFunction\":\"mat\",\"ObjType\":\"coat\",\"ProcessName\":\"csi_cod\",\"TableKind\":\"T \",\"TableName\":\"coat_mat_csi_cod\"},{\"DatabaseName\":\"ADLSTE_COA\",\"ObjFunction\":\"mat\",\"ObjType\":\"coat\",\"ProcessName\":\"csi_cod2\",\"TableKind\":\"T \",\"TableName\":\"coat_mat_csi_cod2\"},{\"DatabaseName\":\"ADLSTE_COA\",\"ObjFunction\":\"mat\",\"ObjType\":\"coat\",\"ProcessName\":\"csi_node_day\",\"TableKind\":\"T \",\"TableName\":\"coat_mat_csi_node_day\"},{\"DatabaseName\":\"ADLSTE_COA\",\"ObjFunction\":\"mat\",\"ObjType\":\"coat\",\"ProcessName\":\"csi_siteid_day\",\"TableKind\":\"T \",\"TableName\":\"coat_mat_csi_siteid_day\"},{\"DatabaseName\":\"ADLSTE_COA\",\"ObjFunction\":\"mat\",\"ObjType\":\"coat\",\"ProcessName\":\"csi_siteid_node_day\",\"TableKind\":\"T \",\"TableName\":\"coat_mat_csi_siteid_node_day\"},{\"DatabaseName\":\"ADLSTE_COA\",\"ObjFunction\":\"mat\",\"ObjType\":\"coat\",\"ProcessName\":\"gtm_customer\",\"TableKind\":\"T \",\"TableName\":\"coat_mat_gtm_customer\"},{\"DatabaseName\":\"ADLSTE_COA\",\"ObjFunction\":\"mat\",\"ObjType\":\"coat\",\"ProcessName\":\"oae_array_day\",\"TableKind\":\"T \",\"TableName\":\"coat_mat_oae_array_day\"},{\"DatabaseName\":\"ADLSTE_COA\",\"ObjFunction\":\"mat\",\"ObjType\":\"coat\",\"ProcessName\":\"sales_contact\",\"TableKind\":\"T \",\"TableName\":\"coat_mat_sales_contact\"},{\"DatabaseName\":\"ADLSTE_COA\",\"ObjFunction\":\"mat\",\"ObjType\":\"coat\",\"ProcessName\":\"sales_contact_acct\",\"TableKind\":\"T \",\"TableName\":\"coat_mat_sales_contact_acct\"},{\"DatabaseName\":\"ADLSTE_COA\",\"ObjFunction\":\"mat\",\"ObjType\":\"coat\",\"ProcessName\":\"sales_role_qlid\",\"TableKind\":\"T \",\"TableName\":\"coat_mat_sales_role_qlid\"},{\"DatabaseName\":\"ADLSTE_COA\",\"ObjFunction\":\"mat\",\"ObjType\":\"coat\",\"ProcessName\":\"shc_node_count\",\"TableKind\":\"T \",\"TableName\":\"coat_mat_shc_node_count\"},{\"DatabaseName\":\"ADLSTE_COA\",\"ObjFunction\":\"mat\",\"ObjType\":\"coat\",\"ProcessName\":\"shc_node_count2\",\"TableKind\":\"T \",\"TableName\":\"coat_mat_shc_node_count2\"},{\"DatabaseName\":\"ADLSTE_COA\",\"ObjFunction\":\"mat\",\"ObjType\":\"coat\",\"ProcessName\":\"shc_node_count3\",\"TableKind\":\"T \",\"TableName\":\"coat_mat_shc_node_count3\"},{\"DatabaseName\":\"ADLSTE_COA\",\"ObjFunction\":\"mat\",\"ObjType\":\"coat\",\"ProcessName\":\"shc_node_count_day\",\"TableKind\":\"T \",\"TableName\":\"coat_mat_shc_node_count_day\"},{\"DatabaseName\":\"ADLSTE_COA\",\"ObjFunction\":\"mat\",\"ObjType\":\"coat\",\"ProcessName\":\"shc_siteid_day\",\"TableKind\":\"T \",\"TableName\":\"coat_mat_shc_siteid_day\"},{\"DatabaseName\":\"ADLSTE_COA\",\"ObjFunction\":\"mat\",\"ObjType\":\"coat\",\"ProcessName\":\"shc_siteid_day_Coverage\",\"TableKind\":\"T \",\"TableName\":\"coat_mat_shc_siteid_day_Coverage\"},{\"DatabaseName\":\"ADLSTE_COA\",\"ObjFunction\":\"mat\",\"ObjType\":\"coat\",\"ProcessName\":\"shc_siteid_hr\",\"TableKind\":\"T \",\"TableName\":\"coat_mat_shc_siteid_hr\"},{\"DatabaseName\":\"ADLSTE_COA\",\"ObjFunction\":\"mat\",\"ObjType\":\"coat\",\"ProcessName\":\"shc_siteid_hr_IO\",\"TableKind\":\"T \",\"TableName\":\"coat_mat_shc_siteid_hr_IO\"}]\n",
      "text/html": [
       "<div class = \"td-resultset-table-div\" style = \"max-height: 537px; overflow-y: auto\"><style> table {border: 1px solid rgb(207, 207, 207) !important; border-collapse: collapse !important; margin-top: 1px !important;} th {border: 1px solid rgb(198,198,198) !important; border-collapse: collapse !important; padding: 2px 5px !important; font-size: 13px !important; min-width:150px !important; max-width: 150px !important; white-space: nowrap !important; overflow:hidden !important; text-overflow:ellipsis !important;} tr:nth-child(even) {background: rgba(243, 243, 243, 0.75) !important;} td {border: 1px solid rgb(207, 207, 207) !important; border-collapse: collapse !important; padding: 2px 5px !important; font-size: 13px !important; min-width:150px !important; max-width: 150px !important; white-space: nowrap !important; overflow:hidden !important; text-overflow:ellipsis !important;}</style><table><thead><tr style= \"background: #efefef;\"><th>DatabaseName</th><th>TableName</th><th>TableKind</th><th>ObjType</th><th>ObjFunction</th><th>ProcessName</th></tr></thead><tr><td>ADLSTE_COA</td><td>coa_mat_csi_cod</td><td>V </td><td>coa</td><td>mat</td><td>csi_cod</td></tr><tr><td>ADLSTE_COA</td><td>coa_mat_csi_node_day</td><td>V </td><td>coa</td><td>mat</td><td>csi_node_day</td></tr><tr><td>ADLSTE_COA</td><td>coa_mat_csi_siteid_day</td><td>V </td><td>coa</td><td>mat</td><td>csi_siteid_day</td></tr><tr><td>ADLSTE_COA</td><td>coa_mat_csi_siteid_node_day</td><td>V </td><td>coa</td><td>mat</td><td>csi_siteid_node_day</td></tr><tr><td>ADLSTE_COA</td><td>coa_mat_gtm_customer</td><td>V </td><td>coa</td><td>mat</td><td>gtm_customer</td></tr><tr><td>ADLSTE_COA</td><td>coa_mat_oae_array_day</td><td>V </td><td>coa</td><td>mat</td><td>oae_array_day</td></tr><tr><td>ADLSTE_COA</td><td>coa_mat_sales_contact</td><td>V </td><td>coa</td><td>mat</td><td>sales_contact</td></tr><tr><td>ADLSTE_COA</td><td>coa_mat_sales_role_qlid</td><td>V </td><td>coa</td><td>mat</td><td>sales_role_qlid</td></tr><tr><td>ADLSTE_COA</td><td>coa_mat_shc_node_count3</td><td>V </td><td>coa</td><td>mat</td><td>shc_node_count3</td></tr><tr><td>ADLSTE_COA</td><td>coa_mat_shc_siteid_day_Coverage</td><td>V </td><td>coa</td><td>mat</td><td>shc_siteid_day_Coverage</td></tr><tr><td>ADLSTE_COA</td><td>coa_mat_shc_siteid_hr</td><td>V </td><td>coa</td><td>mat</td><td>shc_siteid_hr</td></tr><tr><td>ADLSTE_COA</td><td>coa_mat_shc_siteid_hr_IO</td><td>V </td><td>coa</td><td>mat</td><td>shc_siteid_hr_IO</td></tr><tr><td>ADLSTE_COA</td><td>coat_mat_csi_cod</td><td>T </td><td>coat</td><td>mat</td><td>csi_cod</td></tr><tr><td>ADLSTE_COA</td><td>coat_mat_csi_cod2</td><td>T </td><td>coat</td><td>mat</td><td>csi_cod2</td></tr><tr><td>ADLSTE_COA</td><td>coat_mat_csi_node_day</td><td>T </td><td>coat</td><td>mat</td><td>csi_node_day</td></tr><tr><td>ADLSTE_COA</td><td>coat_mat_csi_siteid_day</td><td>T </td><td>coat</td><td>mat</td><td>csi_siteid_day</td></tr><tr><td>ADLSTE_COA</td><td>coat_mat_csi_siteid_node_day</td><td>T </td><td>coat</td><td>mat</td><td>csi_siteid_node_day</td></tr><tr><td>ADLSTE_COA</td><td>coat_mat_gtm_customer</td><td>T </td><td>coat</td><td>mat</td><td>gtm_customer</td></tr><tr><td>ADLSTE_COA</td><td>coat_mat_oae_array_day</td><td>T </td><td>coat</td><td>mat</td><td>oae_array_day</td></tr><tr><td>ADLSTE_COA</td><td>coat_mat_sales_contact</td><td>T </td><td>coat</td><td>mat</td><td>sales_contact</td></tr><tr><td>ADLSTE_COA</td><td>coat_mat_sales_contact_acct</td><td>T </td><td>coat</td><td>mat</td><td>sales_contact_acct</td></tr><tr><td>ADLSTE_COA</td><td>coat_mat_sales_role_qlid</td><td>T </td><td>coat</td><td>mat</td><td>sales_role_qlid</td></tr><tr><td>ADLSTE_COA</td><td>coat_mat_shc_node_count</td><td>T </td><td>coat</td><td>mat</td><td>shc_node_count</td></tr><tr><td>ADLSTE_COA</td><td>coat_mat_shc_node_count2</td><td>T </td><td>coat</td><td>mat</td><td>shc_node_count2</td></tr><tr><td>ADLSTE_COA</td><td>coat_mat_shc_node_count3</td><td>T </td><td>coat</td><td>mat</td><td>shc_node_count3</td></tr><tr><td>ADLSTE_COA</td><td>coat_mat_shc_node_count_day</td><td>T </td><td>coat</td><td>mat</td><td>shc_node_count_day</td></tr><tr><td>ADLSTE_COA</td><td>coat_mat_shc_siteid_day</td><td>T </td><td>coat</td><td>mat</td><td>shc_siteid_day</td></tr><tr><td>ADLSTE_COA</td><td>coat_mat_shc_siteid_day_Coverage</td><td>T </td><td>coat</td><td>mat</td><td>shc_siteid_day_Coverage</td></tr><tr><td>ADLSTE_COA</td><td>coat_mat_shc_siteid_hr</td><td>T </td><td>coat</td><td>mat</td><td>shc_siteid_hr</td></tr><tr><td>ADLSTE_COA</td><td>coat_mat_shc_siteid_hr_IO</td><td>T </td><td>coat</td><td>mat</td><td>shc_siteid_hr_IO</td></tr></table></div>"
      ]
     },
     "execution_count": 4,
     "metadata": {
      "application/vnd.teradata.resultset": "{\"resultSetID\":\"/home/jovyan/JupyterLabRoot/Teradata/Resultsets/2020.05.18_19.00.48.989_UTC\",\"historyID\":1185,\"chunkID\":\"00001\",\"sessionid\":\"\",\"portnum\":\"\",\"dockermode\":\"docker\",\"totalRowCount\":30,\"rowLimit\":0,\"columnMetadata\":[{\"columnName\":\"DatabaseName\",\"columnTypeName\":\"VARCHAR\",\"length\":128,\"scale\":128},{\"columnNumber\":1,\"columnName\":\"TableName\",\"columnTypeName\":\"VARCHAR\",\"length\":128,\"scale\":128},{\"columnNumber\":2,\"columnName\":\"TableKind\",\"columnTypeName\":\"CHAR\",\"length\":1,\"scale\":1},{\"columnNumber\":3,\"columnName\":\"ObjType\",\"columnTypeName\":\"VARCHAR\",\"length\":30,\"scale\":30},{\"columnNumber\":4,\"columnName\":\"ObjFunction\",\"columnTypeName\":\"VARCHAR\",\"length\":30,\"scale\":30},{\"columnNumber\":5,\"columnName\":\"ProcessName\",\"columnTypeName\":\"VARCHAR\",\"length\":30,\"scale\":30}]}"
     },
     "output_type": "execute_result"
    }
   ],
   "source": [
    "Select * from adlste_coa.coa_meta_objects\n",
    "where Tablename  like '%mat%'\n",
    "order by ObjType, ProcessName,  ObjType desc;"
   ]
  },
  {
   "cell_type": "markdown",
   "metadata": {},
   "source": [
    "<br/><br/><br/>\n",
    "## Audit_Run (sub-stored_procedure)\n",
    "### for tracking audit columns per row while minimizing storage\n",
    "- database:    adlste_coa\n",
    "- table:       coat_audit_run\n",
    "- view:        coa_audit_run\n",
    "- stored proc: sp_audit_run"
   ]
  },
  {
   "cell_type": "code",
   "execution_count": null,
   "metadata": {},
   "outputs": [],
   "source": [
    "drop table adlste_coa.coat_audit_runlog"
   ]
  },
  {
   "cell_type": "code",
   "execution_count": null,
   "metadata": {},
   "outputs": [],
   "source": [
    "Create multiset table adlste_coa.coat_audit_runlog\n",
    "(\n",
    " Run_ID       INTEGER \n",
    ",ParentRun_ID INTEGER\n",
    ",Site_ID      VARCHAR(128)\n",
    ",TableName    VARCHAR(128)\n",
    ",StartDate    DATE\n",
    ",EndDate      DATE\n",
    ",CallingSP    VARCHAR(128)\n",
    ",SQLVersion   VARCHAR(128)\n",
    ",Run_Type     VARCHAR(128)\n",
    ",Run_Status   VARCHAR(128)\n",
    ",Run_User     VARCHAR(128) Default USER\n",
    ",Run_TS       Timestamp(0) Default Current_Timestamp(0)\n",
    ") \n",
    "primary index (Site_ID, TableName);"
   ]
  },
  {
   "cell_type": "code",
   "execution_count": null,
   "metadata": {},
   "outputs": [],
   "source": [
    "replace view adlste_coa.coa_audit_runlog \n",
    "as locking row for access\n",
    "Select * from adlste_coa.coat_audit_runlog"
   ]
  },
  {
   "cell_type": "code",
   "execution_count": null,
   "metadata": {},
   "outputs": [],
   "source": [
    "replace PROCEDURE adlste_coa.sp_audit_log (inout runid integer\n",
    "                                              ,in siteid varchar(128)\n",
    "                                              ,in tblname varchar(128)\n",
    "                                              ,in callingsp varchar(128)\n",
    "                                              ,in sqlversion varchar(128)\n",
    "                                              ,in startdate date\n",
    "                                              ,in enddate date\n",
    "                                              ,in runtype varchar(128)\n",
    "                                              ,in runstatus varchar(128)\n",
    "                                              )\n",
    "SQL SECURITY CREATOR\n",
    "BEGIN\n",
    "DECLARE runidout INTEGER;\n",
    "\n",
    "    SELECT coalesce(Max(Run_ID)+1,1) as Run_ID   INTO runidout \n",
    "    FROM adlste_coa.coat_audit_runlog \n",
    "    ;\n",
    "    \n",
    "    Insert into adlste_coa.coat_audit_runlog \n",
    "    values\n",
    "    ( :runidout\n",
    "     ,:runid --parentrunid\n",
    "     ,:siteid\n",
    "     ,:tblname\n",
    "     ,:startdate\n",
    "     ,:enddate\n",
    "     ,:callingsp\n",
    "     ,:sqlversion\n",
    "     ,:runtype\n",
    "     ,:runstatus\n",
    "     ,USER \n",
    "     ,Current_Timestamp(0)\n",
    "    );\n",
    "    \n",
    "    SET runid = runidout ;\n",
    "\n",
    "END;"
   ]
  },
  {
   "cell_type": "code",
   "execution_count": null,
   "metadata": {},
   "outputs": [],
   "source": [
    "-- delete from adlste_coa.coat_audit_runlog -- don't do this"
   ]
  },
  {
   "cell_type": "markdown",
   "metadata": {},
   "source": [
    "### Example of some calls - designed to be embedded in other SPs"
   ]
  },
  {
   "cell_type": "code",
   "execution_count": null,
   "metadata": {},
   "outputs": [],
   "source": [
    "-- start SP()\n",
    "CALL adlste_coa.sp_audit_log(0\n",
    "                            ,'test_SiteID'  -- Site_ID\n",
    "                            ,'adlste_coa.coat_audit_run'  -- Table Name\n",
    "                            ,'adlste_coa.sp_test'  -- Calling SP\n",
    "                            ,'v1.15'  -- StoredProc Version\n",
    "                            ,DATE-7 -- Start Date\n",
    "                            ,DATE-1 -- End Date\n",
    "                            ,'Test Run'  -- Run Type\n",
    "                            ,'START' );  -- Run Status"
   ]
  },
  {
   "cell_type": "code",
   "execution_count": null,
   "metadata": {},
   "outputs": [],
   "source": [
    "-- do stuff, but need a checkpoint \n",
    "-- (number above becomes last parameter below)\n",
    "call adlste_coa.sp_audit_log(4\n",
    "                            ,'test_SiteID'  -- Site_ID\n",
    "                            ,'adlste_coa.coat_audit_run'  -- Table Name\n",
    "                            ,'adlste_coa.sp_test'  -- Calling SP\n",
    "                            ,'v1.15'  -- StoredProc Version\n",
    "                            ,DATE-7 -- Start Date\n",
    "                            ,DATE-1 -- End Date\n",
    "                            ,'Test Run'  -- Run Type\n",
    "                            ,'CHECKPOINT' );  -- Run Status"
   ]
  },
  {
   "cell_type": "code",
   "execution_count": null,
   "metadata": {},
   "outputs": [],
   "source": [
    "-- end of SP()\n",
    "-- (number above becomes last parameter below)\n",
    "call adlste_coa.sp_audit_log(4\n",
    "                            ,'test_SiteID'  -- Site_ID\n",
    "                            ,'adlste_coa.coat_audit_run'  -- Table Name\n",
    "                            ,'adlste_coa.sp_test'  -- Calling SP\n",
    "                            ,'v1.15'  -- StoredProc Version\n",
    "                            ,DATE-7 -- Start Date\n",
    "                            ,DATE-1 -- End Date\n",
    "                            ,'Test Run'  -- Run Type\n",
    "                            ,'END'); -- Run Status"
   ]
  },
  {
   "cell_type": "code",
   "execution_count": null,
   "metadata": {},
   "outputs": [],
   "source": [
    "Select * from adlste_coa.coat_audit_runlog"
   ]
  },
  {
   "cell_type": "code",
   "execution_count": null,
   "metadata": {},
   "outputs": [],
   "source": [
    "replace view adlste_coa.coa_audit_summary   as locking row for access\n",
    "Select \n",
    " case when ParentRun_ID=0 then Run_ID else ParentRun_ID end as Run_ID\n",
    ",Site_ID\n",
    ",min(cast(Run_TS as DATE)) as LogDate\n",
    ",TableName\n",
    ",CallingSP\n",
    ",SQLVersion\n",
    ",Run_Type\n",
    ",count(*) as Steps\n",
    ",sum(case when Run_Status='ERROR' then 1 else 0 end) as Errors\n",
    ",sum(case when Run_Status='WARNING' then 1 else 0 end) as Warnings\n",
    ",min(case when Run_Status='START' then Run_TS else NULL end) as Start_TS\n",
    ",max(case when Run_Status='END' then Run_TS else NULL end) as End_TS\n",
    "from adlste_coa.coa_audit_runlog\n",
    "Group by 1,2,4,5,6,7"
   ]
  },
  {
   "cell_type": "code",
   "execution_count": 1,
   "metadata": {},
   "outputs": [
    {
     "ename": "ERROR",
     "evalue": "No active connection",
     "output_type": "error",
     "traceback": [
      "No active connection"
     ]
    }
   ],
   "source": [
    "select * from adlste_coa.coa_audit_summary order by 1"
   ]
  },
  {
   "cell_type": "code",
   "execution_count": null,
   "metadata": {},
   "outputs": [],
   "source": []
  }
 ],
 "metadata": {
  "kernelspec": {
   "display_name": "Teradata SQL",
   "language": "Teradata SQL",
   "name": "teradatasql"
  },
  "language_info": {
   "codemirror_mode": "Teradata SQL",
   "file_extension": ".tdrs",
   "mimetype": "application/vnd.teradata.resultset",
   "name": "Teradata SQL",
   "nbconvert_exporter": "",
   "pygments_lexer": "",
   "version": "16.20"
  }
 },
 "nbformat": 4,
 "nbformat_minor": 2
}
