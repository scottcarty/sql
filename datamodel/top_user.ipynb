{
 "cells": [
  {
   "cell_type": "markdown",
   "metadata": {},
   "source": [
    "# Deploy COA Objects in Transcend:   Top_Users"
   ]
  },
  {
   "cell_type": "code",
   "execution_count": null,
   "metadata": {},
   "outputs": [],
   "source": [
    "%addconnect name=Transcend, user=sh186014, host=tdprdcop3.td.teradata.com, props=\"LOGMECH=LDAP\""
   ]
  },
  {
   "cell_type": "code",
   "execution_count": 2,
   "metadata": {},
   "outputs": [
    {
     "name": "stdin",
     "output_type": "stream",
     "text": [
      "Password ············\n"
     ]
    },
    {
     "name": "stdout",
     "output_type": "stream",
     "text": [
      "Success: 'Transcend' connection established\n"
     ]
    }
   ],
   "source": [
    "%connect Transcend"
   ]
  },
  {
   "cell_type": "code",
   "execution_count": 3,
   "metadata": {},
   "outputs": [
    {
     "data": {
      "text/plain": [
       "Success: 1 rows affected"
      ]
     },
     "execution_count": 3,
     "metadata": {
      "application/vnd.teradata.resultset": ""
     },
     "output_type": "execute_result"
    }
   ],
   "source": [
    "database adlste_coa;"
   ]
  },
  {
   "cell_type": "code",
   "execution_count": 15,
   "metadata": {},
   "outputs": [
    {
     "data": {
      "text/plain": [
       "Success: 39 rows affected"
      ]
     },
     "execution_count": 15,
     "metadata": {
      "application/vnd.teradata.resultset": ""
     },
     "output_type": "execute_result"
    }
   ],
   "source": [
    "Drop Table adlste_coa_stg.stg_dat_top_users"
   ]
  },
  {
   "cell_type": "code",
   "execution_count": 16,
   "metadata": {},
   "outputs": [
    {
     "data": {
      "text/plain": [
       "Success: 0 rows affected"
      ]
     },
     "execution_count": 16,
     "metadata": {
      "application/vnd.teradata.resultset": ""
     },
     "output_type": "execute_result"
    }
   ],
   "source": [
    "CREATE MULTISET GLOBAL TEMPORARY TABLE adlste_coa_stg.stg_dat_top_users\n",
    "(\n",
    "   Site_ID                     VARCHAR(64) CHARACTER SET LATIN NOT CASESPECIFIC\n",
    " , WeekID                      INTEGER\n",
    " , MonthID                     INTEGER\n",
    " , UserName                    VARCHAR(256) CHARACTER SET UNICODE \n",
    " , UserHash                    VARCHAR(48)  CHARACTER SET LATIN\n",
    " , User_Bucket                 VARCHAR(256) CHARACTER SET LATIN \n",
    " , User_Department             VARCHAR(256) CHARACTER SET LATIN \n",
    " , User_SubDepartment          VARCHAR(256) CHARACTER SET LATIN \n",
    " , User_Region                 VARCHAR(256) CHARACTER SET LATIN \n",
    " , Query_Cnt                   BIGINT\n",
    " , Query_Cnt_Rank              INTEGER\n",
    " , Query_Complexity_Score      BIGINT\n",
    " , Query_Complexity_Score_Rank INTEGER\n",
    " , CPU_Sec                     DECIMAL(18,4)\n",
    " , CPU_Sec_Rank                INTEGER\n",
    " , IOGB                        BIGINT\n",
    " , IOGB_Rank                   INTEGER\n",
    " , Runtime_Sec                 DECIMAL(18,4)\n",
    " , Runtime_Sec_Rank            INTEGER\n",
    " , Error_Cnt                   INTEGER\n",
    " , Error_Cnt_Rank              INTEGER\n",
    " , Combined_Score              INTEGER\n",
    " , Total_Rank                  INTEGER\n",
    " ) \n",
    " no Primary Index \n",
    " on commit preserve rows\n",
    ";"
   ]
  },
  {
   "cell_type": "code",
   "execution_count": 20,
   "metadata": {},
   "outputs": [
    {
     "data": {
      "text/plain": [
       "Success: 0 rows affected"
      ]
     },
     "execution_count": 20,
     "metadata": {
      "application/vnd.teradata.resultset": ""
     },
     "output_type": "execute_result"
    }
   ],
   "source": [
    "CREATE MULTISET TABLE adlste_coa.coat_dat_top_users\n",
    "(\n",
    "   Site_ID                     VARCHAR(64) CHARACTER SET LATIN NOT CASESPECIFIC\n",
    " , WeekID                      INTEGER\n",
    " , MonthID                     INTEGER\n",
    "-- , UserName                    VARCHAR(256) CHARACTER SET UNICODE \n",
    " , UserHash                    VARCHAR(48)  CHARACTER SET LATIN\n",
    " , User_Bucket                 VARCHAR(256) CHARACTER SET LATIN \n",
    " , User_Department             VARCHAR(256) CHARACTER SET LATIN \n",
    " , User_SubDepartment          VARCHAR(256) CHARACTER SET LATIN \n",
    " , User_Region                 VARCHAR(256) CHARACTER SET LATIN \n",
    " , Query_Cnt                   BIGINT\n",
    " , Query_Cnt_Rank              INTEGER\n",
    " , Query_Complexity_Score      BIGINT\n",
    " , Query_Complexity_Score_Rank INTEGER\n",
    " , CPU_Sec                     DECIMAL(18,4)\n",
    " , CPU_Sec_Rank                INTEGER\n",
    " , IOGB                        BIGINT\n",
    " , IOGB_Rank                   INTEGER\n",
    " , Runtime_Sec                 DECIMAL(18,4)\n",
    " , Runtime_Sec_Rank            INTEGER\n",
    " , Error_Cnt                   INTEGER\n",
    " , Error_Cnt_Rank              INTEGER\n",
    " , Combined_Score              INTEGER\n",
    " , Total_Rank                  INTEGER\n",
    " , Run_ID                       INTEGER\n",
    " ) \n",
    " Primary Index (Site_ID, MonthID) ;"
   ]
  },
  {
   "cell_type": "code",
   "execution_count": 21,
   "metadata": {},
   "outputs": [
    {
     "data": {
      "text/plain": [
       "Success: 0 rows affected"
      ]
     },
     "execution_count": 21,
     "metadata": {
      "application/vnd.teradata.resultset": ""
     },
     "output_type": "execute_result"
    }
   ],
   "source": [
    "REPLACE PROCEDURE adlste_coa.sp_dat_top_users ( spversion VARCHAR(128) ) \n",
    "SQL SECURITY CREATOR\n",
    "BEGIN \n",
    "\n",
    "    /* start setup audit process */\n",
    "    \n",
    "    DECLARE runid  INTEGER;\n",
    "    DECLARE siteid VARCHAR(128);\n",
    "    DECLARE tablename VARCHAR(128);\n",
    "    DECLARE callingsp VARCHAR(128); \n",
    "    DECLARE startdate DATE;\n",
    "    DECLARE enddate DATE;\n",
    "    \n",
    "    SET runid = 0;\n",
    "    SET tablename = 'adlste_coa.coat_dat_top_users';\n",
    "    SET callingsp = 'adlste_coa.sp_dat_top_users';\n",
    "    SET siteid = 'Empty Table';\n",
    "    SET startdate = DATE;\n",
    "    SET enddate = DATE;\n",
    "\n",
    "    SELECT \n",
    "     coalesce(Site_ID,'empty table')       \n",
    "    ,current_date as StartDate\n",
    "    ,current_date as EndDate\n",
    "    INTO siteid, startdate, enddate\n",
    "    FROM adlste_coa_stg.stg_dat_top_users\n",
    "    Group by  1,2,3\n",
    "    ;\n",
    "    \n",
    "    /* end setup audit process */\n",
    "    \n",
    "    \n",
    "    \n",
    "    CALL adlste_coa.sp_audit_log(runid, :siteid, :tablename, :callingsp, :spversion, :startdate, :enddate,\n",
    "                              'normal run', 'START') ;\n",
    "\n",
    "    DELETE FROM adlste_coa.coat_dat_top_users WHERE (Site_ID, coalesce(WeekID,0), coalesce(MonthID,0) ) IN\n",
    "    (Select Site_ID, coalesce(WeekID,0), coalesce(MonthID,0) From adlste_coa_stg.stg_dat_top_users );\n",
    "    \n",
    "    Insert into adlste_coa.coat_dat_top_users \n",
    "    Select \n",
    "      Site_ID                     \n",
    "    , WeekID                      \n",
    "    , MonthID                     \n",
    "    -- , UserName                    \n",
    "    , UserHash                    \n",
    "    , User_Bucket                 \n",
    "    , User_Department             \n",
    "    , User_SubDepartment          \n",
    "    , User_Region                 \n",
    "    , Query_Cnt                   \n",
    "    , Query_Cnt_Rank              \n",
    "    , Query_Complexity_Score      \n",
    "    , Query_Complexity_Score_Rank \n",
    "    , CPU_Sec                     \n",
    "    , CPU_Sec_Rank                \n",
    "    , IOGB                        \n",
    "    , IOGB_Rank                   \n",
    "    , Runtime_Sec                 \n",
    "    , Runtime_Sec_Rank            \n",
    "    , Error_Cnt                   \n",
    "    , Error_Cnt_Rank              \n",
    "    , Combined_Score              \n",
    "    , Total_Rank\n",
    "    , :runid\n",
    "    from adlste_coa_stg.stg_dat_top_users ; \n",
    "    \n",
    "        \n",
    "    CALL adlste_coa.sp_audit_log(runid, :siteid, :tablename, :callingsp, :spversion, :startdate, :enddate,\n",
    "                              'normal run', 'END') ;\n",
    "\n",
    "END;"
   ]
  },
  {
   "cell_type": "code",
   "execution_count": null,
   "metadata": {},
   "outputs": [],
   "source": []
  }
 ],
 "metadata": {
  "kernelspec": {
   "display_name": "Teradata SQL",
   "language": "Teradata SQL",
   "name": "teradatasql"
  },
  "language_info": {
   "codemirror_mode": "Teradata SQL",
   "file_extension": ".tdrs",
   "mimetype": "application/vnd.teradata.resultset",
   "name": "Teradata SQL",
   "nbconvert_exporter": "",
   "pygments_lexer": "",
   "version": "16.20"
  }
 },
 "nbformat": 4,
 "nbformat_minor": 2
}
