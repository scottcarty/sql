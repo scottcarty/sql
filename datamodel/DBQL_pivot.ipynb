{
 "cells": [
  {
   "cell_type": "markdown",
   "metadata": {},
   "source": [
    "# Deploy COA Objects in Transcend: DBQL_pivot\n",
    "\n",
    "This ojbect unpivots the runtime and delaytime metrics that are stored in sperate columns for each time period in DBQL_core. The time period buckets are removed from the column names and converted to rows and a new time_period column."
   ]
  },
  {
   "cell_type": "code",
   "execution_count": null,
   "metadata": {},
   "outputs": [],
   "source": [
    "%addconnect name=Transcend, user=sc160001, host=tdprdcop3.td.teradata.com, props=\"LOGMECH=LDAP\""
   ]
  },
  {
   "cell_type": "code",
   "execution_count": 1,
   "metadata": {},
   "outputs": [
    {
     "name": "stdin",
     "output_type": "stream",
     "text": [
      "Password: ·············\n"
     ]
    },
    {
     "name": "stdout",
     "output_type": "stream",
     "text": [
      "Success: 'Transcend' connection established and activated for user 'sc160001'\n"
     ]
    }
   ],
   "source": [
    "%connect name=Transcend"
   ]
  },
  {
   "cell_type": "markdown",
   "metadata": {},
   "source": [
    "## Target Table and View (adlste_coa)"
   ]
  },
  {
   "cell_type": "code",
   "execution_count": null,
   "metadata": {},
   "outputs": [],
   "source": [
    "#drop table adlste_coa.coat_dat_DBQL_pivot;"
   ]
  },
  {
   "cell_type": "code",
   "execution_count": null,
   "metadata": {},
   "outputs": [],
   "source": [
    "CREATE MULTISET TABLE adlste_coa.coat_dat_DBQL_pivot ,FALLBACK ,\n",
    "     NO BEFORE JOURNAL,\n",
    "     NO AFTER JOURNAL,\n",
    "     CHECKSUM = DEFAULT,\n",
    "     DEFAULT MERGEBLOCKRATIO\n",
    "     (\n",
    "      Row_Key INTEGER,\n",
    "      Site_ID VARCHAR(64) CHARACTER SET LATIN NOT CASESPECIFIC,\n",
    "      LogDate DATE FORMAT 'yyyy-mm-dd',\n",
    "      LogHour INTEGER,\n",
    "      LogDateHour TIMESTAMP(0),\n",
    "      App_Bucket VARCHAR(256) CHARACTER SET LATIN NOT CASESPECIFIC COMPRESS ('BTEQ','JDBC','TPT','Tableau','TPTStream','Python','Unknown','BOBJ','PHP','SQLAssistant','TD-BAR','MS IIS','MS Office','Atanasuite'),\n",
    "      Use_Bucket VARCHAR(256) CHARACTER SET LATIN NOT CASESPECIFIC COMPRESS ('ETL','Application','Analytic','ETL/Export','Unknown','Backup'),\n",
    "      Statement_Bucket VARCHAR(256) CHARACTER SET LATIN NOT CASESPECIFIC COMPRESS ('Select','Transaction','Set Session','Insert','Other','Create Table','Delete','Collect Stats','Drop Table','Update','Call SP','Create Object','Merge','Load','Drop Object','Admin','Exec Macro','Unknown'),\n",
    "      User_Bucket VARCHAR(256) CHARACTER SET LATIN NOT CASESPECIFIC COMPRESS ('Unknown','ETL','TDInternal','Admin','Analytic','TDInternal-DBC'),\n",
    "      User_Department VARCHAR(256) CHARACTER SET LATIN NOT CASESPECIFIC COMPRESS ('Unknown','dept'),\n",
    "      User_SubDepartment VARCHAR(256) CHARACTER SET LATIN NOT CASESPECIFIC COMPRESS ('Unknown','subdept'),\n",
    "      Total_AMPs INTEGER COMPRESS (2928 ,1920 ,144 ),\n",
    "      time_period VARCHAR(1000) CHARACTER SET UNICODE NOT CASESPECIFIC COMPRESS ('0000_0001','0001_0005','0005_0010','0010_0030','0030_0060','0060_0300','0300_0600','0600_1800','1800_3600','3600_plus'),\n",
    "      qrycnt_in_runtime BIGINT COMPRESS (0 ,1 ,2 ,3 ,4 ,5 ,6 ,7 ,8 ,9 ,10 ,11 ,12 ,13 ,14 ,15 ,16 ,17 ,18 ,19 ,20 ,21 ,22 ,23 ,24 ,25 ,26 ,27 ,28 ,29 ,30 ,31 ,32 ,33 ,34 ,35 ,36 ,37 ,38 ,39 ,40 ,41 ,42 ,43 ,44 ,45 ,46 ,47 ,48 ,49 ,50 ,51 ,52 ,53 ,54 ,56 ,58 ,60 ,62 ,64 ,66 ,120 ),\n",
    "      cpusec_in_runtime DECIMAL(18,4) COMPRESS (0.0000 ,0.0040 ),\n",
    "      iogb_in_runtime DECIMAL(18,4) COMPRESS (0.0000 ,0.0001 ),\n",
    "      qrycnt_in_delaytime BIGINT COMPRESS (0 ,1 ,2 ,3 ,4 ,6 ),\n",
    "      cpusec_in_delaytime DECIMAL(18,4) COMPRESS (0.0000 ,0.0040 ),\n",
    "      iogb_in_delaytime DECIMAL(18,4) COMPRESS (0.0000 ,0.0001 ),\n",
    "      Run_Id INTEGER DEFAULT -1  COMPRESS 0 )\n",
    "PRIMARY INDEX ( Site_ID ,LogDateHour );"
   ]
  },
  {
   "cell_type": "code",
   "execution_count": null,
   "metadata": {},
   "outputs": [],
   "source": [
    "REPLACE VIEW adlste_coa.coa_dat_DBQL_pivot AS\n",
    " LOCK ROW FOR ACCESS\n",
    " SELECT \n",
    "  Row_Key\n",
    "  ,Site_ID\n",
    "  ,LogDate\n",
    "  ,LogHour\n",
    "  ,App_Bucket\n",
    "  ,Use_Bucket\n",
    "  ,Statement_Bucket\n",
    "  ,User_Bucket\n",
    "  ,'n/a' AS Is_Discrete_Human -- remove\n",
    "  ,User_Department\n",
    "  ,User_SubDepartment\n",
    "  ,'n/a' AS User_Region -- remove\n",
    "  ,'n/a' AS WDName -- remove\n",
    "  ,'n/a' AS Query_Type -- remove\n",
    "  ,Total_AMPs\n",
    "  ,Time_Period\n",
    "  ,Qrycnt_In_Runtime\n",
    "  ,CPUsec_In_Runtime\n",
    "  ,IOgb_In_Runtime\n",
    "  ,Qrycnt_In_Delaytime\n",
    "  ,CPUsec_In_Delaytime\n",
    "  ,IOgb_in_Delaytime\n",
    "  ,Run_Id\n",
    "FROM adlste_coa.coat_dat_DBQL_pivot;"
   ]
  },
  {
   "cell_type": "markdown",
   "metadata": {},
   "source": [
    "## Stored Procedure for Full load\n",
    "This procedure trumcates and reloads all data from the coat_dat_DBQL_core table"
   ]
  },
  {
   "cell_type": "code",
   "execution_count": 9,
   "metadata": {},
   "outputs": [
    {
     "data": {
      "text/plain": [
       "Success: 0 rows affected"
      ]
     },
     "execution_count": 9,
     "metadata": {
      "application/vnd.teradata.resultset": ""
     },
     "output_type": "execute_result"
    }
   ],
   "source": [
    "REPLACE PROCEDURE adlste_coa.sp_dat_DBQL_pivot_full ()\n",
    "SQL SECURITY Creator\n",
    "BEGIN\n",
    "\n",
    "  /* start setup audit process */\n",
    "    \n",
    "  DECLARE runid  INTEGER;\n",
    "  DECLARE siteid VARCHAR(128);\n",
    "  DECLARE tablename VARCHAR(128);\n",
    "  DECLARE callingsp VARCHAR(128); \n",
    "  DECLARE startdate DATE;\n",
    "  DECLARE enddate DATE;\n",
    "  DECLARE spversion BYTEINT;\n",
    "  DECLARE SQL_ERROR_CODE INTEGER;\n",
    "  DECLARE SQL_STATE VARCHAR(5);\n",
    "  DECLARE ERROR_MESSAGE VARCHAR(256);\n",
    "  \n",
    "  DECLARE EXIT HANDLER FOR SqlException\n",
    "  BEGIN\n",
    "   \n",
    "     SET SQL_ERROR_CODE = SqlCode;\n",
    "     SET SQL_STATE = SqlState;\n",
    "     \n",
    "     GET DIAGNOSTICS EXCEPTION 1 ERROR_MESSAGE = Message_Text;\n",
    "     \n",
    "     CALL adlste_coa.sp_audit_log(:runid, :siteid, :tablename, :callingsp, :spversion, :startdate, :enddate, 'normal run', 'ERROR', :ERROR_MESSAGE);\n",
    "     \n",
    "  END;\n",
    "  \n",
    "  SET runid = NULL;\n",
    "  SET tablename = 'adlste_coa.coat_dat_DBQL_pivot';\n",
    "  SET callingsp = 'adlste_coa.sp_dat_DBQL_pivot_full';\n",
    "  SET siteid = 'Empty Table';\n",
    "  SET spversion = 1;\n",
    "    \n",
    "  SELECT \n",
    "     'ALL'      \n",
    "    ,Min(LogDate) AS StartDate\n",
    "    ,Max(LogDate) AS EndDate\n",
    "  INTO siteid, startdate, enddate\n",
    "  FROM adlste_coa.coat_dat_DBQL_core \n",
    "  GROUP BY 1;\n",
    "  \n",
    "\n",
    "    \n",
    "  /* end setup audit process */\n",
    "     \n",
    "  CALL adlste_coa.sp_audit_log(:runid, :siteid, :tablename, :callingsp, :spversion, :startdate, :enddate, 'normal run', 'START', '');\n",
    "    \n",
    "  DELETE FROM adlste_coa.coat_dat_dbql_pivot;\n",
    "\n",
    "  INSERT INTO adlste_coa.coat_dat_dbql_pivot\n",
    "  SELECT T1.*\n",
    "        ,T2.qrycnt_in_delaytime\n",
    "        ,T2.cpusec_in_delaytime\n",
    "        ,T2.iogb_in_delaytime\n",
    "        ,:runid AS Run_Id\n",
    "   FROM \n",
    "   (SELECT Row_Key                       \n",
    "          ,Site_ID                       \n",
    "          ,LogDate                       \n",
    "          ,LogHour\n",
    "          ,LogDateHour          \n",
    "          ,App_Bucket                    \n",
    "          ,Use_Bucket\n",
    "          ,Statement_Bucket\n",
    "          ,User_Bucket\n",
    "--          ,Is_Discrete_Human\n",
    "          ,User_Department\n",
    "          ,User_SubDepartment\n",
    "--          ,User_Region\n",
    "--          ,WDName\n",
    "--          ,Query_Type\n",
    "          ,Total_AMPs\n",
    "          ,time_period\n",
    "          ,qrycnt_in_runtime\n",
    "          ,cpusec_in_runtime\n",
    "          ,iogb_in_runtime\n",
    "   FROM adlste_coa.coat_dat_dbql_Core UNPIVOT ((qrycnt_in_runtime, cpusec_in_runtime, iogb_in_runtime) FOR time_period\n",
    "                                      IN ((qrycnt_in_runtime_0000_0001, cpusec_in_runtime_0000_0001, iogb_in_runtime_0000_0001) AS '0 to 1',\n",
    "                                          (qrycnt_in_runtime_0001_0005, cpusec_in_runtime_0001_0005, iogb_in_runtime_0001_0005) AS '1 to  5',\n",
    "                                          (qrycnt_in_runtime_0005_0010, cpusec_in_runtime_0005_0010, iogb_in_runtime_0005_0010) AS '5 to 10',\n",
    "                                          (qrycnt_in_runtime_0010_0030, cpusec_in_runtime_0010_0030, iogb_in_runtime_0010_0030) AS '10 to 30',\n",
    "                                          (qrycnt_in_runtime_0030_0060, cpusec_in_runtime_0030_0060, iogb_in_runtime_0030_0060) AS '30 to 60',\n",
    "                                          (qrycnt_in_runtime_0060_0300, cpusec_in_runtime_0060_0300, iogb_in_runtime_0060_0300) AS '60 to 300',\n",
    "                                          (qrycnt_in_runtime_0300_0600, cpusec_in_runtime_0300_0600, iogb_in_runtime_0300_0600) AS '300 to 600',\n",
    "                                          (qrycnt_in_runtime_0600_1800, cpusec_in_runtime_0600_1800, iogb_in_runtime_0600_1800) AS '600 to 1800',\n",
    "                                          (qrycnt_in_runtime_1800_3600, cpusec_in_runtime_1800_3600, iogb_in_runtime_1800_3600) AS '1800 to 3600',\n",
    "                                          (qrycnt_in_runtime_3600_plus, cpusec_in_runtime_3600_plus, iogb_in_runtime_3600_plus) AS 'over 3600')) T1\n",
    "   WHERE Row_Key MOD 2 = 0\n",
    "    ) T1                                 \n",
    "   JOIN                                           \n",
    "   (SELECT Row_Key\n",
    "          ,Site_ID\n",
    "          ,LogDate\n",
    "          ,LogHour\n",
    "          ,((LogDate (FORMAT 'YYYY-MM-DD')) || ' ' || (LogHour (FORMAT '99') (CHAR(2))) || ':00:00') (TIMESTAMP(0)) AS LogDateHour\n",
    "          ,App_Bucket\n",
    "          ,Use_Bucket                    \n",
    "          ,Statement_Bucket\n",
    "          ,User_Bucket\n",
    "--          ,Is_Discrete_Human\n",
    "          ,User_Department\n",
    "          ,User_SubDepartment\n",
    "--          ,User_Region\n",
    "--          ,WDName\n",
    "--          ,Query_Type\n",
    "          ,Total_AMPs\n",
    "          ,time_period\n",
    "          ,qrycnt_in_delaytime\n",
    "          ,cpusec_in_delaytime\n",
    "          ,iogb_in_delaytime\n",
    "   FROM adlste_coa.coat_dat_dbql_Core UNPIVOT ((qrycnt_in_delaytime, cpusec_in_delaytime, iogb_in_delaytime) FOR time_period\n",
    "                                      IN ((qrycnt_in_delaytime_0000_0001, cpusec_in_delaytime_0000_0001, iogb_in_delaytime_0000_0001) AS '0 to 1',\n",
    "                                          (qrycnt_in_delaytime_0001_0005, cpusec_in_delaytime_0001_0005, iogb_in_delaytime_0001_0005) AS '1 to 5',\n",
    "                                          (qrycnt_in_delaytime_0005_0010, cpusec_in_delaytime_0005_0010, iogb_in_delaytime_0005_0010) AS '5 to 10',\n",
    "                                          (qrycnt_in_delaytime_0010_0030, cpusec_in_delaytime_0010_0030, iogb_in_delaytime_0010_0030) AS '10 to 30',\n",
    "                                          (qrycnt_in_delaytime_0030_0060, cpusec_in_delaytime_0030_0060, iogb_in_delaytime_0030_0060) AS '30 to 60',\n",
    "                                          (qrycnt_in_delaytime_0060_0300, cpusec_in_delaytime_0060_0300, iogb_in_delaytime_0060_0300) AS '60 to 300',\n",
    "                                          (qrycnt_in_delaytime_0300_0600, cpusec_in_delaytime_0300_0600, iogb_in_delaytime_0300_0600) AS '300 to 600',\n",
    "                                          (qrycnt_in_delaytime_0600_1800, cpusec_in_delaytime_0600_1800, iogb_in_delaytime_0600_1800) AS '600 to 1800',\n",
    "                                          (qrycnt_in_delaytime_1800_3600, cpusec_in_delaytime_1800_3600, iogb_in_delaytime_1800_3600) AS '1800 to 3600',\n",
    "                                          (qrycnt_in_delaytime_3600_plus, cpusec_in_delaytime_3600_plus, iogb_in_delaytime_3600_plus) AS 'over 3600')) T2\n",
    "   WHERE Row_Key MOD 2 = 0\n",
    "   ) T2\n",
    "   ON T1.Site_ID = T2.Site_ID\n",
    "    AND T1.LogDate = T2.LogDate\n",
    "    AND T1.LogHour = T2.LogHour\n",
    "    AND T1.Time_Period = T2.Time_Period\n",
    "    AND T1.Row_Key = T2.Row_Key\n",
    "\n",
    ";INSERT INTO adlste_coa.coat_dat_dbql_pivot\n",
    "  SELECT T1.*\n",
    "        ,T2.qrycnt_in_delaytime\n",
    "        ,T2.cpusec_in_delaytime\n",
    "        ,T2.iogb_in_delaytime \n",
    "        ,:runid AS Run_Id\n",
    "   FROM \n",
    "   (SELECT Row_Key                       \n",
    "          ,Site_ID                       \n",
    "          ,LogDate                       \n",
    "          ,LogHour\n",
    "          ,((LogDate (FORMAT 'YYYY-MM-DD')) || ' ' || (LogHour (FORMAT '99') (CHAR(2))) || ':00:00') (TIMESTAMP(0)) AS LogDateHour          \n",
    "          ,App_Bucket                    \n",
    "          ,Use_Bucket\n",
    "          ,Statement_Bucket\n",
    "          ,User_Bucket\n",
    "--          ,Is_Discrete_Human\n",
    "          ,User_Department\n",
    "          ,User_SubDepartment\n",
    "--          ,User_Region\n",
    "--          ,WDName\n",
    "--          ,Query_Type\n",
    "          ,Total_AMPs\n",
    "          ,time_period\n",
    "          ,qrycnt_in_runtime\n",
    "          ,cpusec_in_runtime\n",
    "          ,iogb_in_runtime\n",
    "   FROM adlste_coa.coat_dat_dbql_Core UNPIVOT ((qrycnt_in_runtime, cpusec_in_runtime, iogb_in_runtime) FOR time_period\n",
    "                                      IN ((qrycnt_in_runtime_0000_0001, cpusec_in_runtime_0000_0001, iogb_in_runtime_0000_0001) AS '0 to 1',\n",
    "                                          (qrycnt_in_runtime_0001_0005, cpusec_in_runtime_0001_0005, iogb_in_runtime_0001_0005) AS '1 to  5',\n",
    "                                          (qrycnt_in_runtime_0005_0010, cpusec_in_runtime_0005_0010, iogb_in_runtime_0005_0010) AS '5 to 10',\n",
    "                                          (qrycnt_in_runtime_0010_0030, cpusec_in_runtime_0010_0030, iogb_in_runtime_0010_0030) AS '10 to 30',\n",
    "                                          (qrycnt_in_runtime_0030_0060, cpusec_in_runtime_0030_0060, iogb_in_runtime_0030_0060) AS '30 to 60',\n",
    "                                          (qrycnt_in_runtime_0060_0300, cpusec_in_runtime_0060_0300, iogb_in_runtime_0060_0300) AS '60 to 300',\n",
    "                                          (qrycnt_in_runtime_0300_0600, cpusec_in_runtime_0300_0600, iogb_in_runtime_0300_0600) AS '300 to 600',\n",
    "                                          (qrycnt_in_runtime_0600_1800, cpusec_in_runtime_0600_1800, iogb_in_runtime_0600_1800) AS '600 to 1800',\n",
    "                                          (qrycnt_in_runtime_1800_3600, cpusec_in_runtime_1800_3600, iogb_in_runtime_1800_3600) AS '1800 to 3600',\n",
    "                                          (qrycnt_in_runtime_3600_plus, cpusec_in_runtime_3600_plus, iogb_in_runtime_3600_plus) AS 'over 3600')) T1\n",
    "   WHERE Row_Key MOD 2 = 1\n",
    "    ) T1                                 \n",
    "   JOIN                                           \n",
    "   (SELECT Row_Key\n",
    "          ,Site_ID\n",
    "          ,LogDate\n",
    "          ,LogHour\n",
    "          ,((LogDate (FORMAT 'YYYY-MM-DD')) || ' ' || (LogHour (FORMAT '99') (CHAR(2))) || ':00:00') (TIMESTAMP(0)) AS LogDateHour          \n",
    "          ,App_Bucket\n",
    "          ,Use_Bucket                    \n",
    "          ,Statement_Bucket\n",
    "          ,User_Bucket\n",
    "--          ,Is_Discrete_Human\n",
    "          ,User_Department\n",
    "          ,User_SubDepartment\n",
    "--          ,User_Region\n",
    "--          ,WDName\n",
    "--          ,Query_Type\n",
    "          ,Total_AMPs\n",
    "          ,time_period\n",
    "          ,qrycnt_in_delaytime\n",
    "          ,cpusec_in_delaytime\n",
    "          ,iogb_in_delaytime\n",
    "   FROM adlste_coa.coat_dat_dbql_Core UNPIVOT ((qrycnt_in_delaytime, cpusec_in_delaytime, iogb_in_delaytime) FOR time_period\n",
    "                                      IN ((qrycnt_in_delaytime_0000_0001, cpusec_in_delaytime_0000_0001, iogb_in_delaytime_0000_0001) AS '0 to 1',\n",
    "                                          (qrycnt_in_delaytime_0001_0005, cpusec_in_delaytime_0001_0005, iogb_in_delaytime_0001_0005) AS '1 to 5',\n",
    "                                          (qrycnt_in_delaytime_0005_0010, cpusec_in_delaytime_0005_0010, iogb_in_delaytime_0005_0010) AS '5 to 10',\n",
    "                                          (qrycnt_in_delaytime_0010_0030, cpusec_in_delaytime_0010_0030, iogb_in_delaytime_0010_0030) AS '10 to 30',\n",
    "                                          (qrycnt_in_delaytime_0030_0060, cpusec_in_delaytime_0030_0060, iogb_in_delaytime_0030_0060) AS '30 to 60',\n",
    "                                          (qrycnt_in_delaytime_0060_0300, cpusec_in_delaytime_0060_0300, iogb_in_delaytime_0060_0300) AS '60 to 300',\n",
    "                                          (qrycnt_in_delaytime_0300_0600, cpusec_in_delaytime_0300_0600, iogb_in_delaytime_0300_0600) AS '300 to 600',\n",
    "                                          (qrycnt_in_delaytime_0600_1800, cpusec_in_delaytime_0600_1800, iogb_in_delaytime_0600_1800) AS '600 to 1800',\n",
    "                                          (qrycnt_in_delaytime_1800_3600, cpusec_in_delaytime_1800_3600, iogb_in_delaytime_1800_3600) AS '1800 to 3600',\n",
    "                                          (qrycnt_in_delaytime_3600_plus, cpusec_in_delaytime_3600_plus, iogb_in_delaytime_3600_plus) AS 'over 3600')) T2\n",
    "   WHERE Row_Key MOD 2 = 1\n",
    "   ) T2\n",
    "   ON T1.Site_ID = T2.Site_ID\n",
    "    AND T1.LogDate = T2.LogDate\n",
    "    AND T1.LogHour = T2.LogHour\n",
    "    AND T1.Time_Period = T2.Time_Period\n",
    "    AND T1.Row_Key = T2.Row_Key;\n",
    " \n",
    "  CALL adlste_coa.sp_audit_log(:runid, :siteid, :tablename, :callingsp, :spversion, :startdate, :enddate, 'normal run', 'END', '');\n",
    "END;"
   ]
  },
  {
   "cell_type": "markdown",
   "metadata": {},
   "source": [
    "## Stored Procedure for delta loads\n",
    "This procedure performan and incremental load of the data from the adlste_coa_stg.stg_dat_DBQL_core staging table"
   ]
  },
  {
   "cell_type": "code",
   "execution_count": 10,
   "metadata": {},
   "outputs": [
    {
     "data": {
      "text/plain": [
       "Success: 0 rows affected"
      ]
     },
     "execution_count": 10,
     "metadata": {
      "application/vnd.teradata.resultset": ""
     },
     "output_type": "execute_result"
    }
   ],
   "source": [
    "REPLACE PROCEDURE adlste_coa.sp_dat_DBQL_pivot_delta ()\n",
    "SQL SECURITY Creator\n",
    "BEGIN\n",
    "\n",
    "  /* start setup audit process */\n",
    "    \n",
    "  DECLARE runid  INTEGER;\n",
    "  DECLARE siteid VARCHAR(128);\n",
    "  DECLARE tablename VARCHAR(128);\n",
    "  DECLARE callingsp VARCHAR(128); \n",
    "  DECLARE startdate DATE;\n",
    "  DECLARE enddate DATE;\n",
    "  DECLARE spversion BYTEINT;\n",
    "  DECLARE SQL_ERROR_CODE INTEGER;\n",
    "  DECLARE SQL_STATE VARCHAR(5);\n",
    "  DECLARE ERROR_MESSAGE VARCHAR(256);\n",
    "  \n",
    "  DECLARE EXIT HANDLER FOR SqlException\n",
    "  BEGIN\n",
    "   \n",
    "     SET SQL_ERROR_CODE = SqlCode;\n",
    "     SET SQL_STATE = SqlState;\n",
    "     \n",
    "     GET DIAGNOSTICS EXCEPTION 1 ERROR_MESSAGE = Message_Text;\n",
    "     \n",
    "     CALL adlste_coa.sp_audit_log(:runid, :siteid, :tablename, :callingsp, :spversion, :startdate, :enddate, 'normal run', 'ERROR', :ERROR_MESSAGE);\n",
    "     \n",
    "  END;\n",
    "  \n",
    "  SET runid = NULL;\n",
    "  SET tablename = 'adlste_coa.coat_dat_DBQL_pivot';\n",
    "  SET callingsp = 'adlste_coa.sp_dat_DBQL_pivot_delta';\n",
    "  SET siteid = 'Empty Table';\n",
    "  SET spversion = 1;\n",
    "    \n",
    "  SELECT \n",
    "     Site_Id  \n",
    "    ,Min(LogDate) AS StartDate\n",
    "    ,Max(LogDate) AS EndDate\n",
    "  INTO siteid, startdate, enddate\n",
    "  FROM adlste_coa_stg.stg_dat_DBQL_core \n",
    "  GROUP BY 1;\n",
    "    \n",
    "  /* end setup audit process */\n",
    "     \n",
    "  CALL adlste_coa.sp_audit_log(:runid, :siteid, :tablename, :callingsp, :spversion, :startdate, :enddate, 'normal run', 'START', '');\n",
    "       \n",
    "  DELETE FROM adlste_coa.coat_dat_dbql_pivot\n",
    "  WHERE Site_Id = :siteid AND LogDate BETWEEN :StartDate AND :EndDate;\n",
    "\n",
    "  INSERT INTO adlste_coa.coat_dat_dbql_pivot\n",
    "  SELECT T1.*\n",
    "        ,T2.qrycnt_in_delaytime\n",
    "        ,T2.cpusec_in_delaytime\n",
    "        ,T2.iogb_in_delaytime\n",
    "        ,:runid AS Run_Id\n",
    "   FROM \n",
    "   (SELECT Row_Key                       \n",
    "          ,Site_ID                       \n",
    "          ,LogDate                       \n",
    "          ,LogHour\n",
    "          ,LogDateHour\n",
    "          ,App_Bucket                    \n",
    "          ,Use_Bucket\n",
    "          ,Statement_Bucket\n",
    "          ,User_Bucket\n",
    "--          ,Is_Discrete_Human\n",
    "          ,User_Department\n",
    "          ,User_SubDepartment\n",
    "--          ,User_Region\n",
    "--          ,WDName\n",
    "--          ,Query_Type\n",
    "          ,Total_AMPs\n",
    "          ,time_period\n",
    "          ,qrycnt_in_runtime\n",
    "          ,cpusec_in_runtime\n",
    "          ,iogb_in_runtime\n",
    "   FROM adlste_coa.coa_dat_DBQL_core UNPIVOT ((qrycnt_in_runtime, cpusec_in_runtime, iogb_in_runtime) FOR time_period\n",
    "                                      IN ((qrycnt_in_runtime_0000_0001, cpusec_in_runtime_0000_0001, iogb_in_runtime_0000_0001) AS '0 to 1',\n",
    "                                          (qrycnt_in_runtime_0001_0005, cpusec_in_runtime_0001_0005, iogb_in_runtime_0001_0005) AS '1 to  5',\n",
    "                                          (qrycnt_in_runtime_0005_0010, cpusec_in_runtime_0005_0010, iogb_in_runtime_0005_0010) AS '5 to 10',\n",
    "                                          (qrycnt_in_runtime_0010_0030, cpusec_in_runtime_0010_0030, iogb_in_runtime_0010_0030) AS '10 to 30',\n",
    "                                          (qrycnt_in_runtime_0030_0060, cpusec_in_runtime_0030_0060, iogb_in_runtime_0030_0060) AS '30 to 60',\n",
    "                                          (qrycnt_in_runtime_0060_0300, cpusec_in_runtime_0060_0300, iogb_in_runtime_0060_0300) AS '60 to 300',\n",
    "                                          (qrycnt_in_runtime_0300_0600, cpusec_in_runtime_0300_0600, iogb_in_runtime_0300_0600) AS '300 to 600',\n",
    "                                          (qrycnt_in_runtime_0600_1800, cpusec_in_runtime_0600_1800, iogb_in_runtime_0600_1800) AS '600 to 1800',\n",
    "                                          (qrycnt_in_runtime_1800_3600, cpusec_in_runtime_1800_3600, iogb_in_runtime_1800_3600) AS '1800 to 3600',\n",
    "                                          (qrycnt_in_runtime_3600_plus, cpusec_in_runtime_3600_plus, iogb_in_runtime_3600_plus) AS 'over 3600')) T1\n",
    "   WHERE Row_Key MOD 2 = 0 AND LogDate BETWEEN :StartDate AND :EndDAte\n",
    "    ) T1                                 \n",
    "   JOIN                                           \n",
    "   (SELECT Row_Key\n",
    "          ,Site_ID\n",
    "          ,LogDate\n",
    "          ,LogHour\n",
    "          ,LogDateHour\n",
    "          ,App_Bucket\n",
    "          ,Use_Bucket                    \n",
    "          ,Statement_Bucket\n",
    "          ,User_Bucket\n",
    "--          ,Is_Discrete_Human\n",
    "          ,User_Department\n",
    "          ,User_SubDepartment\n",
    "--          ,User_Region\n",
    "--          ,WDName\n",
    "--          ,Query_Type\n",
    "          ,Total_AMPs\n",
    "          ,time_period\n",
    "          ,qrycnt_in_delaytime\n",
    "          ,cpusec_in_delaytime\n",
    "          ,iogb_in_delaytime\n",
    "   FROM adlste_coa.coa_dat_DBQL_core UNPIVOT ((qrycnt_in_delaytime, cpusec_in_delaytime, iogb_in_delaytime) FOR time_period\n",
    "                                      IN ((qrycnt_in_delaytime_0000_0001, cpusec_in_delaytime_0000_0001, iogb_in_delaytime_0000_0001) AS '0 to 1',\n",
    "                                          (qrycnt_in_delaytime_0001_0005, cpusec_in_delaytime_0001_0005, iogb_in_delaytime_0001_0005) AS '1 to 5',\n",
    "                                          (qrycnt_in_delaytime_0005_0010, cpusec_in_delaytime_0005_0010, iogb_in_delaytime_0005_0010) AS '5 to 10',\n",
    "                                          (qrycnt_in_delaytime_0010_0030, cpusec_in_delaytime_0010_0030, iogb_in_delaytime_0010_0030) AS '10 to 30',\n",
    "                                          (qrycnt_in_delaytime_0030_0060, cpusec_in_delaytime_0030_0060, iogb_in_delaytime_0030_0060) AS '30 to 60',\n",
    "                                          (qrycnt_in_delaytime_0060_0300, cpusec_in_delaytime_0060_0300, iogb_in_delaytime_0060_0300) AS '60 to 300',\n",
    "                                          (qrycnt_in_delaytime_0300_0600, cpusec_in_delaytime_0300_0600, iogb_in_delaytime_0300_0600) AS '300 to 600',\n",
    "                                          (qrycnt_in_delaytime_0600_1800, cpusec_in_delaytime_0600_1800, iogb_in_delaytime_0600_1800) AS '600 to 1800',\n",
    "                                          (qrycnt_in_delaytime_1800_3600, cpusec_in_delaytime_1800_3600, iogb_in_delaytime_1800_3600) AS '1800 to 3600',\n",
    "                                          (qrycnt_in_delaytime_3600_plus, cpusec_in_delaytime_3600_plus, iogb_in_delaytime_3600_plus) AS 'over 3600')) T2\n",
    "   WHERE Row_Key MOD 2 = 0 AND LogDate BETWEEN :StartDate AND :EndDAte\n",
    "   ) T2\n",
    "   ON T1.Site_ID = T2.Site_ID\n",
    "    AND T1.LogDate = T2.LogDate\n",
    "    AND T1.LogHour = T2.LogHour\n",
    "    AND T1.Time_Period = T2.Time_Period\n",
    "    AND T1.Row_Key = T2.Row_Key\n",
    "\n",
    ";INSERT INTO adlste_coa.coat_dat_dbql_pivot\n",
    "  SELECT T1.*\n",
    "        ,T2.qrycnt_in_delaytime\n",
    "        ,T2.cpusec_in_delaytime\n",
    "        ,T2.iogb_in_delaytime \n",
    "        ,:runid AS Run_Id\n",
    "   FROM \n",
    "   (SELECT Row_Key                       \n",
    "          ,Site_ID                       \n",
    "          ,LogDate                       \n",
    "          ,LogHour\n",
    "          ,LogDateHour\n",
    "          ,App_Bucket                    \n",
    "          ,Use_Bucket\n",
    "          ,Statement_Bucket\n",
    "          ,User_Bucket\n",
    "--          ,Is_Discrete_Human\n",
    "          ,User_Department\n",
    "          ,User_SubDepartment\n",
    "--          ,User_Region\n",
    "--          ,WDName\n",
    "--          ,Query_Type\n",
    "          ,Total_AMPs\n",
    "          ,time_period\n",
    "          ,qrycnt_in_runtime\n",
    "          ,cpusec_in_runtime\n",
    "          ,iogb_in_runtime\n",
    "   FROM adlste_coa.coa_dat_DBQL_core UNPIVOT ((qrycnt_in_runtime, cpusec_in_runtime, iogb_in_runtime) FOR time_period\n",
    "                                      IN ((qrycnt_in_runtime_0000_0001, cpusec_in_runtime_0000_0001, iogb_in_runtime_0000_0001) AS '0 to 1',\n",
    "                                          (qrycnt_in_runtime_0001_0005, cpusec_in_runtime_0001_0005, iogb_in_runtime_0001_0005) AS '1 to  5',\n",
    "                                          (qrycnt_in_runtime_0005_0010, cpusec_in_runtime_0005_0010, iogb_in_runtime_0005_0010) AS '5 to 10',\n",
    "                                          (qrycnt_in_runtime_0010_0030, cpusec_in_runtime_0010_0030, iogb_in_runtime_0010_0030) AS '10 to 30',\n",
    "                                          (qrycnt_in_runtime_0030_0060, cpusec_in_runtime_0030_0060, iogb_in_runtime_0030_0060) AS '30 to 60',\n",
    "                                          (qrycnt_in_runtime_0060_0300, cpusec_in_runtime_0060_0300, iogb_in_runtime_0060_0300) AS '60 to 300',\n",
    "                                          (qrycnt_in_runtime_0300_0600, cpusec_in_runtime_0300_0600, iogb_in_runtime_0300_0600) AS '300 to 600',\n",
    "                                          (qrycnt_in_runtime_0600_1800, cpusec_in_runtime_0600_1800, iogb_in_runtime_0600_1800) AS '600 to 1800',\n",
    "                                          (qrycnt_in_runtime_1800_3600, cpusec_in_runtime_1800_3600, iogb_in_runtime_1800_3600) AS '1800 to 3600',\n",
    "                                          (qrycnt_in_runtime_3600_plus, cpusec_in_runtime_3600_plus, iogb_in_runtime_3600_plus) AS 'over 3600')) T1\n",
    "   WHERE Row_Key MOD 2 = 1 AND LogDate BETWEEN :StartDate AND :EndDAte\n",
    "    ) T1                                 \n",
    "   JOIN                                           \n",
    "   (SELECT Row_Key\n",
    "          ,Site_ID\n",
    "          ,LogDate\n",
    "          ,LogHour\n",
    "          ,LogDateHour\n",
    "          ,App_Bucket\n",
    "          ,Use_Bucket                    \n",
    "          ,Statement_Bucket\n",
    "          ,User_Bucket\n",
    "--          ,Is_Discrete_Human\n",
    "          ,User_Department\n",
    "          ,User_SubDepartment\n",
    "--          ,User_Region\n",
    "--          ,WDName\n",
    "--          ,Query_Type\n",
    "          ,Total_AMPs\n",
    "          ,time_period\n",
    "          ,qrycnt_in_delaytime\n",
    "          ,cpusec_in_delaytime\n",
    "          ,iogb_in_delaytime\n",
    "   FROM adlste_coa.coa_dat_DBQL_core UNPIVOT ((qrycnt_in_delaytime, cpusec_in_delaytime, iogb_in_delaytime) FOR time_period\n",
    "                                      IN ((qrycnt_in_delaytime_0000_0001, cpusec_in_delaytime_0000_0001, iogb_in_delaytime_0000_0001) AS '0 to 1',\n",
    "                                          (qrycnt_in_delaytime_0001_0005, cpusec_in_delaytime_0001_0005, iogb_in_delaytime_0001_0005) AS '1 to 5',\n",
    "                                          (qrycnt_in_delaytime_0005_0010, cpusec_in_delaytime_0005_0010, iogb_in_delaytime_0005_0010) AS '5 to 10',\n",
    "                                          (qrycnt_in_delaytime_0010_0030, cpusec_in_delaytime_0010_0030, iogb_in_delaytime_0010_0030) AS '10 to 30',\n",
    "                                          (qrycnt_in_delaytime_0030_0060, cpusec_in_delaytime_0030_0060, iogb_in_delaytime_0030_0060) AS '30 to 60',\n",
    "                                          (qrycnt_in_delaytime_0060_0300, cpusec_in_delaytime_0060_0300, iogb_in_delaytime_0060_0300) AS '60 to 300',\n",
    "                                          (qrycnt_in_delaytime_0300_0600, cpusec_in_delaytime_0300_0600, iogb_in_delaytime_0300_0600) AS '300 to 600',\n",
    "                                          (qrycnt_in_delaytime_0600_1800, cpusec_in_delaytime_0600_1800, iogb_in_delaytime_0600_1800) AS '600 to 1800',\n",
    "                                          (qrycnt_in_delaytime_1800_3600, cpusec_in_delaytime_1800_3600, iogb_in_delaytime_1800_3600) AS '1800 to 3600',\n",
    "                                          (qrycnt_in_delaytime_3600_plus, cpusec_in_delaytime_3600_plus, iogb_in_delaytime_3600_plus) AS 'over 3600')) T2\n",
    "   WHERE Row_Key MOD 2 = 1 AND LogDate BETWEEN :StartDate AND :EndDAte\n",
    "   ) T2\n",
    "   ON T1.Site_ID = T2.Site_ID\n",
    "    AND T1.LogDate = T2.LogDate\n",
    "    AND T1.LogHour = T2.LogHour\n",
    "    AND T1.Time_Period = T2.Time_Period\n",
    "    AND T1.Row_Key = T2.Row_Key;\n",
    "\n",
    "   CALL adlste_coa.sp_audit_log(:runid, :siteid, :tablename, :callingsp, :spversion, :startdate, :enddate, 'normal run', 'END', '');\n",
    "  \n",
    "END;"
   ]
  },
  {
   "cell_type": "markdown",
   "metadata": {},
   "source": [
    "## Execute the full load procedure"
   ]
  },
  {
   "cell_type": "code",
   "execution_count": 11,
   "metadata": {},
   "outputs": [
    {
     "data": {
      "text/plain": [
       "Success: 0 rows affected"
      ]
     },
     "execution_count": 11,
     "metadata": {
      "application/vnd.teradata.resultset": ""
     },
     "output_type": "execute_result"
    }
   ],
   "source": [
    "call adlste_coa.sp_dat_DBQL_pivot_full();"
   ]
  },
  {
   "cell_type": "markdown",
   "metadata": {},
   "source": [
    "## Report Success"
   ]
  },
  {
   "cell_type": "code",
   "execution_count": 12,
   "metadata": {},
   "outputs": [
    {
     "data": {
      "application/vnd.teradata.resultset": "[{\"CallingSP\":\"adlste_coa.sp_dat_DBQL_pivot_full\",\"EndDate\":\"2020-06-14\",\"ParentRun_ID\":\"245\",\"Run_ID\":\"246\",\"Run_Message\":\"\",\"Run_Status\":\"END\",\"Run_TS\":\"2020-06-15 16:19:17\",\"Run_Type\":\"normal run\",\"Run_User\":\"SC160001\",\"SQLVersion\":\"   1\",\"Site_ID\":\"ALL\",\"StartDate\":\"2020-03-03\",\"TableName\":\"adlste_coa.coat_dat_DBQL_pivot\"},{\"CallingSP\":\"adlste_coa.sp_dat_DBQL_pivot_full\",\"EndDate\":\"2020-06-14\",\"ParentRun_ID\":\"\",\"Run_ID\":\"245\",\"Run_Message\":\"\",\"Run_Status\":\"START\",\"Run_TS\":\"2020-06-15 16:18:08\",\"Run_Type\":\"normal run\",\"Run_User\":\"SC160001\",\"SQLVersion\":\"   1\",\"Site_ID\":\"ALL\",\"StartDate\":\"2020-03-03\",\"TableName\":\"adlste_coa.coat_dat_DBQL_pivot\"},{\"CallingSP\":\"adlste_coa.sp_dat_DBQL_pivot_full\",\"EndDate\":\"2020-06-14\",\"ParentRun_ID\":\"243\",\"Run_ID\":\"244\",\"Run_Message\":\"\",\"Run_Status\":\"END\",\"Run_TS\":\"2020-06-15 15:53:13\",\"Run_Type\":\"normal run\",\"Run_User\":\"SC160001\",\"SQLVersion\":\"   1\",\"Site_ID\":\"ALL\",\"StartDate\":\"2020-03-03\",\"TableName\":\"adlste_coa.coat_dat_DBQL_pivot\"},{\"CallingSP\":\"adlste_coa.sp_dat_DBQL_pivot_full\",\"EndDate\":\"2020-06-14\",\"ParentRun_ID\":\"\",\"Run_ID\":\"243\",\"Run_Message\":\"\",\"Run_Status\":\"START\",\"Run_TS\":\"2020-06-15 15:52:38\",\"Run_Type\":\"normal run\",\"Run_User\":\"SC160001\",\"SQLVersion\":\"   1\",\"Site_ID\":\"ALL\",\"StartDate\":\"2020-03-03\",\"TableName\":\"adlste_coa.coat_dat_DBQL_pivot\"}]\n",
      "text/html": [
       "<div class = \"td-resultset-table-div\" style = \"max-height: 147px; overflow-y: auto\">\n",
       "  <table class=\"tdhistory277536\"><style>\n",
       "    table.tdhistory277536 { display: block !important; min-height: 147px !important; overflow: auto !important; height: 147px !important; width: 100% !important; border: 1px solid rgb(207, 207, 207) !important; border-collapse: collapse !important; ; color: var(--jp-ui-font-color1) !important; }\n",
       "    th.tdhistory277536 { border: 1px solid rgb(198,198,198) !important; border-collapse: collapse !important; ; padding: 2px 5px !important; ; font-size: 13px !important; ; text-align: center !important; white-space: normal !important; color: var(--jp-ui-font-color1) !important; }\n",
       "    th.tdhistory277536:last-child { text-align: left !important; }\n",
       "    tbody.tdhistory277536 tr:nth-child(even) { background: rgba(243, 243, 243, 0.75) !important; }\n",
       "    tbody.tdhistory277536 tr:nth-child(odd) { background: var(--jp-ui-inverse-font-color1) !important; }\n",
       "  td.tdhistory277536 { border: 1px solid rgb(207, 207, 207) !important; border-collapse: collapse !important; ; padding: 2px 5px !important; ; font-size: 13px !important; ; min-width:150px !important; max-width: 150px !important;text-align: left !important;        white-space: nowrap !important; overflow:hidden !important; text-overflow:ellipsis !important;; }\n",
       "  </style><thead><tr style= \"background: #bababa;\"><th class=\"tdhistory277536\">Run_ID</th><th class=\"tdhistory277536\">ParentRun_ID</th><th class=\"tdhistory277536\">Site_ID</th><th class=\"tdhistory277536\">TableName</th><th class=\"tdhistory277536\">StartDate</th><th class=\"tdhistory277536\">EndDate</th><th class=\"tdhistory277536\">CallingSP</th><th class=\"tdhistory277536\">SQLVersion</th><th class=\"tdhistory277536\">Run_Type</th><th class=\"tdhistory277536\">Run_Status</th><th class=\"tdhistory277536\">Run_Message</th><th class=\"tdhistory277536\">Run_User</th><th class=\"tdhistory277536\">Run_TS</th></tr></thead><tbody class=\"tdhistory277536 resultset-body\"><tr><td class=\"tdhistory277536\">246</td><td class=\"tdhistory277536\">245</td><td class=\"tdhistory277536\">ALL</td><td class=\"tdhistory277536\">adlste_coa.coat_dat_DBQL_pivot</td><td class=\"tdhistory277536\">2020-03-03</td><td class=\"tdhistory277536\">2020-06-14</td><td class=\"tdhistory277536\">adlste_coa.sp_dat_DBQL_pivot_full</td><td class=\"tdhistory277536\">   1</td><td class=\"tdhistory277536\">normal run</td><td class=\"tdhistory277536\">END</td><td class=\"tdhistory277536\"></td><td class=\"tdhistory277536\">SC160001</td><td class=\"tdhistory277536\">2020-06-15 16:19:17</td></tr><tr><td class=\"tdhistory277536\">245</td><td class=\"tdhistory277536\"></td><td class=\"tdhistory277536\">ALL</td><td class=\"tdhistory277536\">adlste_coa.coat_dat_DBQL_pivot</td><td class=\"tdhistory277536\">2020-03-03</td><td class=\"tdhistory277536\">2020-06-14</td><td class=\"tdhistory277536\">adlste_coa.sp_dat_DBQL_pivot_full</td><td class=\"tdhistory277536\">   1</td><td class=\"tdhistory277536\">normal run</td><td class=\"tdhistory277536\">START</td><td class=\"tdhistory277536\"></td><td class=\"tdhistory277536\">SC160001</td><td class=\"tdhistory277536\">2020-06-15 16:18:08</td></tr><tr><td class=\"tdhistory277536\">244</td><td class=\"tdhistory277536\">243</td><td class=\"tdhistory277536\">ALL</td><td class=\"tdhistory277536\">adlste_coa.coat_dat_DBQL_pivot</td><td class=\"tdhistory277536\">2020-03-03</td><td class=\"tdhistory277536\">2020-06-14</td><td class=\"tdhistory277536\">adlste_coa.sp_dat_DBQL_pivot_full</td><td class=\"tdhistory277536\">   1</td><td class=\"tdhistory277536\">normal run</td><td class=\"tdhistory277536\">END</td><td class=\"tdhistory277536\"></td><td class=\"tdhistory277536\">SC160001</td><td class=\"tdhistory277536\">2020-06-15 15:53:13</td></tr><tr><td class=\"tdhistory277536\">243</td><td class=\"tdhistory277536\"></td><td class=\"tdhistory277536\">ALL</td><td class=\"tdhistory277536\">adlste_coa.coat_dat_DBQL_pivot</td><td class=\"tdhistory277536\">2020-03-03</td><td class=\"tdhistory277536\">2020-06-14</td><td class=\"tdhistory277536\">adlste_coa.sp_dat_DBQL_pivot_full</td><td class=\"tdhistory277536\">   1</td><td class=\"tdhistory277536\">normal run</td><td class=\"tdhistory277536\">START</td><td class=\"tdhistory277536\"></td><td class=\"tdhistory277536\">SC160001</td><td class=\"tdhistory277536\">2020-06-15 15:52:38</td></tr></tbody></table></div>"
      ]
     },
     "execution_count": 12,
     "metadata": {
      "application/vnd.teradata.resultset": "{\"resultSetID\":\"C:\\\\\\\\Users\\\\\\\\sc160001\\\\\\\\Teradata\\\\\\\\Resultsets\\\\\\\\2020.06.15_13.19.30.741_PDT\",\"historyID\":60,\"chunkID\":\"00001\",\"sessionid\":\"\",\"portnum\":\"\",\"dockermode\":\"standalone\",\"totalRowCount\":4,\"chunkCount\":0,\"rowLimit\":0,\"columnMetadata\":[{\"columnName\":\"Run_ID\",\"columnTypeName\":\"INTEGER\"},{\"columnNumber\":1,\"columnName\":\"ParentRun_ID\",\"columnTypeName\":\"INTEGER\"},{\"columnNumber\":2,\"columnName\":\"Site_ID\",\"columnTypeName\":\"VARCHAR\",\"length\":128,\"scale\":128},{\"columnNumber\":3,\"columnName\":\"TableName\",\"columnTypeName\":\"VARCHAR\",\"length\":128,\"scale\":128},{\"columnNumber\":4,\"columnName\":\"StartDate\",\"columnTypeName\":\"DATE\"},{\"columnNumber\":5,\"columnName\":\"EndDate\",\"columnTypeName\":\"DATE\"},{\"columnNumber\":6,\"columnName\":\"CallingSP\",\"columnTypeName\":\"VARCHAR\",\"length\":128,\"scale\":128},{\"columnNumber\":7,\"columnName\":\"SQLVersion\",\"columnTypeName\":\"VARCHAR\",\"length\":128,\"scale\":128},{\"columnNumber\":8,\"columnName\":\"Run_Type\",\"columnTypeName\":\"VARCHAR\",\"length\":128,\"scale\":128},{\"columnNumber\":9,\"columnName\":\"Run_Status\",\"columnTypeName\":\"VARCHAR\",\"length\":128,\"scale\":128},{\"columnNumber\":10,\"columnName\":\"Run_Message\",\"columnTypeName\":\"VARCHAR\",\"length\":512,\"scale\":512},{\"columnNumber\":11,\"columnName\":\"Run_User\",\"columnTypeName\":\"VARCHAR\",\"length\":128,\"scale\":128},{\"columnNumber\":12,\"columnName\":\"Run_TS\",\"columnTypeName\":\"TIMESTAMP\"}]}"
     },
     "output_type": "execute_result"
    }
   ],
   "source": [
    "SELECT * \n",
    "FROM adlste_coa.coa_audit_runlog\n",
    "WHERE Run_TS (DATE) = DATE\n",
    "  AND CallingSP = 'adlste_coa.sp_dat_DBQL_pivot_full'\n",
    "ORDER BY 1 DESC;"
   ]
  },
  {
   "cell_type": "markdown",
   "metadata": {},
   "source": [
    "## Verify the Results\n",
    "\n",
    "Since there are 9 time period buckets the row count should be 9x the rows from DBQL_core"
   ]
  },
  {
   "cell_type": "code",
   "execution_count": 7,
   "metadata": {},
   "outputs": [
    {
     "data": {
      "application/vnd.teradata.resultset": "[{\"(Count(*)*9)\":\"46504872\"}]\n",
      "text/html": [
       "<div class = \"td-resultset-table-div\" style = \"max-height: 84px; overflow-y: auto\">\n",
       "  <table class=\"tdhistory188887\"><style>\n",
       "    table.tdhistory188887 { display: block !important; min-height: 84px !important; overflow: auto !important; height: 84px !important; width: 100% !important; border: 1px solid rgb(207, 207, 207) !important; border-collapse: collapse !important; ; color: var(--jp-ui-font-color1) !important; }\n",
       "    th.tdhistory188887 { border: 1px solid rgb(198,198,198) !important; border-collapse: collapse !important; ; padding: 2px 5px !important; ; font-size: 13px !important; ; text-align: center !important; white-space: normal !important; color: var(--jp-ui-font-color1) !important; }\n",
       "    th.tdhistory188887:last-child { text-align: left !important; }\n",
       "    tbody.tdhistory188887 tr:nth-child(even) { background: rgba(243, 243, 243, 0.75) !important; }\n",
       "    tbody.tdhistory188887 tr:nth-child(odd) { background: var(--jp-ui-inverse-font-color1) !important; }\n",
       "  td.tdhistory188887 { border: 1px solid rgb(207, 207, 207) !important; border-collapse: collapse !important; ; padding: 2px 5px !important; ; font-size: 13px !important; ; min-width:150px !important; max-width: 150px !important;text-align: left !important;        white-space: nowrap !important; overflow:hidden !important; text-overflow:ellipsis !important;; }\n",
       "  </style><thead><tr style= \"background: #bababa;\"><th class=\"tdhistory188887\">(Count(*)*9)</th></tr></thead><tbody class=\"tdhistory188887 resultset-body\"><tr><td class=\"tdhistory188887\">46504872</td></tr></tbody></table></div>"
      ]
     },
     "execution_count": 7,
     "metadata": {
      "application/vnd.teradata.resultset": "{\"resultSetID\":\"C:\\\\\\\\Users\\\\\\\\sc160001\\\\\\\\Teradata\\\\\\\\Resultsets\\\\\\\\2020.06.15_13.00.08.532_PDT\",\"historyID\":55,\"chunkID\":\"00001\",\"sessionid\":\"\",\"portnum\":\"\",\"dockermode\":\"standalone\",\"totalRowCount\":1,\"chunkCount\":0,\"rowLimit\":0,\"columnMetadata\":[{\"columnName\":\"(Count(*)*9)\",\"columnTypeName\":\"INTEGER\"}]}"
     },
     "output_type": "execute_result"
    }
   ],
   "source": [
    "select count(*) * 9 from adlste_coa.coa_dat_DBQL_core;"
   ]
  },
  {
   "cell_type": "code",
   "execution_count": 6,
   "metadata": {},
   "outputs": [
    {
     "data": {
      "application/vnd.teradata.resultset": "[{\"Count(*)\":\"46504872\"}]\n",
      "text/html": [
       "<div class = \"td-resultset-table-div\" style = \"max-height: 84px; overflow-y: auto\">\n",
       "  <table class=\"tdhistory670452\"><style>\n",
       "    table.tdhistory670452 { display: block !important; min-height: 84px !important; overflow: auto !important; height: 84px !important; width: 100% !important; border: 1px solid rgb(207, 207, 207) !important; border-collapse: collapse !important; ; color: var(--jp-ui-font-color1) !important; }\n",
       "    th.tdhistory670452 { border: 1px solid rgb(198,198,198) !important; border-collapse: collapse !important; ; padding: 2px 5px !important; ; font-size: 13px !important; ; text-align: center !important; white-space: normal !important; color: var(--jp-ui-font-color1) !important; }\n",
       "    th.tdhistory670452:last-child { text-align: left !important; }\n",
       "    tbody.tdhistory670452 tr:nth-child(even) { background: rgba(243, 243, 243, 0.75) !important; }\n",
       "    tbody.tdhistory670452 tr:nth-child(odd) { background: var(--jp-ui-inverse-font-color1) !important; }\n",
       "  td.tdhistory670452 { border: 1px solid rgb(207, 207, 207) !important; border-collapse: collapse !important; ; padding: 2px 5px !important; ; font-size: 13px !important; ; min-width:150px !important; max-width: 150px !important;text-align: left !important;        white-space: nowrap !important; overflow:hidden !important; text-overflow:ellipsis !important;; }\n",
       "  </style><thead><tr style= \"background: #bababa;\"><th class=\"tdhistory670452\">Count(*)</th></tr></thead><tbody class=\"tdhistory670452 resultset-body\"><tr><td class=\"tdhistory670452\">46504872</td></tr></tbody></table></div>"
      ]
     },
     "execution_count": 6,
     "metadata": {
      "application/vnd.teradata.resultset": "{\"resultSetID\":\"C:\\\\\\\\Users\\\\\\\\sc160001\\\\\\\\Teradata\\\\\\\\Resultsets\\\\\\\\2020.06.15_12.54.12.749_PDT\",\"historyID\":54,\"chunkID\":\"00001\",\"sessionid\":\"\",\"portnum\":\"\",\"dockermode\":\"standalone\",\"totalRowCount\":1,\"chunkCount\":0,\"rowLimit\":0,\"columnMetadata\":[{\"columnName\":\"Count(*)\",\"columnTypeName\":\"INTEGER\"}]}"
     },
     "output_type": "execute_result"
    }
   ],
   "source": [
    "select count(*) from adlste_coa.coa_dat_DBQL_pivot;"
   ]
  },
  {
   "cell_type": "code",
   "execution_count": 13,
   "metadata": {},
   "outputs": [
    {
     "data": {
      "application/vnd.teradata.resultset": "[{\"App_Bucket\":\"BTEQ\",\"Is_Discrete_Human\":\"n/a\",\"LogDate\":\"2020-03-10\",\"LogHour\":\"4\",\"Query_Type\":\"n/a\",\"Row_Key\":\"5642006\",\"Run_Id\":\"245\",\"Site_ID\":\"APPLE46REDWOOD\",\"Statement_Bucket\":\"Collect Stats\",\"Total_AMPs\":\"2928\",\"Use_Bucket\":\"ETL\",\"User_Bucket\":\"SEMANTIC\",\"User_Department\":\"SALESOPS\",\"User_Region\":\"n/a\",\"User_SubDepartment\":\"SALES\",\"WDName\":\"n/a\",\"cpusec_in_delaytime\":\".0000\",\"cpusec_in_runtime\":\".0000\",\"iogb_in_delaytime\":\".0000\",\"iogb_in_runtime\":\".0000\",\"qrycnt_in_delaytime\":\"0\",\"qrycnt_in_runtime\":\"0\",\"time_period\":\"over 3600\"},{\"App_Bucket\":\"TPT\",\"Is_Discrete_Human\":\"n/a\",\"LogDate\":\"2020-03-10\",\"LogHour\":\"4\",\"Query_Type\":\"n/a\",\"Row_Key\":\"8022904\",\"Run_Id\":\"245\",\"Site_ID\":\"APPLE46REDWOOD\",\"Statement_Bucket\":\"Create/Drop\",\"Total_AMPs\":\"2928\",\"Use_Bucket\":\"ETL\",\"User_Bucket\":\"CORE ETL\",\"User_Department\":\"APPLECARE\",\"User_Region\":\"n/a\",\"User_SubDepartment\":\"CONTACT CENTER\",\"WDName\":\"n/a\",\"cpusec_in_delaytime\":\".0000\",\"cpusec_in_runtime\":\".0000\",\"iogb_in_delaytime\":\".0000\",\"iogb_in_runtime\":\".0000\",\"qrycnt_in_delaytime\":\"0\",\"qrycnt_in_runtime\":\"0\",\"time_period\":\"over 3600\"},{\"App_Bucket\":\"Unknown\",\"Is_Discrete_Human\":\"n/a\",\"LogDate\":\"2020-03-10\",\"LogHour\":\"4\",\"Query_Type\":\"n/a\",\"Row_Key\":\"12735764\",\"Run_Id\":\"245\",\"Site_ID\":\"APPLE46REDWOOD\",\"Statement_Bucket\":\"Other\",\"Total_AMPs\":\"2928\",\"Use_Bucket\":\"Unknown\",\"User_Bucket\":\"Dashboard\",\"User_Department\":\"SALESOPS\",\"User_Region\":\"n/a\",\"User_SubDepartment\":\"OPS\",\"WDName\":\"n/a\",\"cpusec_in_delaytime\":\".0000\",\"cpusec_in_runtime\":\".0000\",\"iogb_in_delaytime\":\".0000\",\"iogb_in_runtime\":\".0000\",\"qrycnt_in_delaytime\":\"0\",\"qrycnt_in_runtime\":\"0\",\"time_period\":\"60 to 300\"},{\"App_Bucket\":\"TPT\",\"Is_Discrete_Human\":\"n/a\",\"LogDate\":\"2020-03-10\",\"LogHour\":\"4\",\"Query_Type\":\"n/a\",\"Row_Key\":\"6737562\",\"Run_Id\":\"245\",\"Site_ID\":\"APPLE46REDWOOD\",\"Statement_Bucket\":\"Create/Drop\",\"Total_AMPs\":\"2928\",\"Use_Bucket\":\"ETL\",\"User_Bucket\":\"CORE ETL\",\"User_Department\":\"SALESOPS\",\"User_Region\":\"n/a\",\"User_SubDepartment\":\"FINANCE\",\"WDName\":\"n/a\",\"cpusec_in_delaytime\":\".0000\",\"cpusec_in_runtime\":\".0000\",\"iogb_in_delaytime\":\".0000\",\"iogb_in_runtime\":\".0000\",\"qrycnt_in_delaytime\":\"0\",\"qrycnt_in_runtime\":\"0\",\"time_period\":\"1800 to 3600\"},{\"App_Bucket\":\"TPTStream\",\"Is_Discrete_Human\":\"n/a\",\"LogDate\":\"2020-03-10\",\"LogHour\":\"4\",\"Query_Type\":\"n/a\",\"Row_Key\":\"13824952\",\"Run_Id\":\"245\",\"Site_ID\":\"APPLE46REDWOOD\",\"Statement_Bucket\":\"Admin\",\"Total_AMPs\":\"2928\",\"Use_Bucket\":\"ETL\",\"User_Bucket\":\"CORE ETL\",\"User_Department\":\"MARKETING\",\"User_Region\":\"n/a\",\"User_SubDepartment\":\"MARKETING\",\"WDName\":\"n/a\",\"cpusec_in_delaytime\":\".0000\",\"cpusec_in_runtime\":\".0000\",\"iogb_in_delaytime\":\".0000\",\"iogb_in_runtime\":\".0000\",\"qrycnt_in_delaytime\":\"0\",\"qrycnt_in_runtime\":\"0\",\"time_period\":\"10 to 30\"},{\"App_Bucket\":\"BTEQ\",\"Is_Discrete_Human\":\"n/a\",\"LogDate\":\"2020-03-10\",\"LogHour\":\"4\",\"Query_Type\":\"n/a\",\"Row_Key\":\"4354302\",\"Run_Id\":\"245\",\"Site_ID\":\"APPLE46REDWOOD\",\"Statement_Bucket\":\"Other\",\"Total_AMPs\":\"2928\",\"Use_Bucket\":\"ETL\",\"User_Bucket\":\"DATA_ENG\",\"User_Department\":\"salesops\",\"User_Region\":\"n/a\",\"User_SubDepartment\":\"OPS\",\"WDName\":\"n/a\",\"cpusec_in_delaytime\":\".0000\",\"cpusec_in_runtime\":\".0000\",\"iogb_in_delaytime\":\".0000\",\"iogb_in_runtime\":\".0000\",\"qrycnt_in_delaytime\":\"0\",\"qrycnt_in_runtime\":\"0\",\"time_period\":\"30 to 60\"},{\"App_Bucket\":\"TPT\",\"Is_Discrete_Human\":\"n/a\",\"LogDate\":\"2020-03-10\",\"LogHour\":\"4\",\"Query_Type\":\"n/a\",\"Row_Key\":\"4545872\",\"Run_Id\":\"245\",\"Site_ID\":\"APPLE46REDWOOD\",\"Statement_Bucket\":\"Load\",\"Total_AMPs\":\"2928\",\"Use_Bucket\":\"ETL\",\"User_Bucket\":\"OUTBOUND\",\"User_Department\":\"APPLECARE\",\"User_Region\":\"n/a\",\"User_SubDepartment\":\"CONTACT CENTER\",\"WDName\":\"n/a\",\"cpusec_in_delaytime\":\"274.0000\",\"cpusec_in_runtime\":\"211.0000\",\"iogb_in_delaytime\":\"230.0000\",\"iogb_in_runtime\":\"182.0000\",\"qrycnt_in_delaytime\":\"132\",\"qrycnt_in_runtime\":\"124\",\"time_period\":\"0 to 1\"},{\"App_Bucket\":\"TPTStream\",\"Is_Discrete_Human\":\"n/a\",\"LogDate\":\"2020-03-10\",\"LogHour\":\"4\",\"Query_Type\":\"n/a\",\"Row_Key\":\"6442930\",\"Run_Id\":\"245\",\"Site_ID\":\"APPLE46REDWOOD\",\"Statement_Bucket\":\"Merge/Update/Delete\",\"Total_AMPs\":\"2928\",\"Use_Bucket\":\"ETL\",\"User_Bucket\":\"CORE ETL\",\"User_Department\":\"SALESOPS\",\"User_Region\":\"n/a\",\"User_SubDepartment\":\"SALES\",\"WDName\":\"n/a\",\"cpusec_in_delaytime\":\".0000\",\"cpusec_in_runtime\":\".0000\",\"iogb_in_delaytime\":\".0000\",\"iogb_in_runtime\":\".0000\",\"qrycnt_in_delaytime\":\"0\",\"qrycnt_in_runtime\":\"0\",\"time_period\":\"5 to 10\"},{\"App_Bucket\":\"BTEQ\",\"Is_Discrete_Human\":\"n/a\",\"LogDate\":\"2020-03-10\",\"LogHour\":\"4\",\"Query_Type\":\"n/a\",\"Row_Key\":\"3032202\",\"Run_Id\":\"245\",\"Site_ID\":\"APPLE46REDWOOD\",\"Statement_Bucket\":\"Select\",\"Total_AMPs\":\"2928\",\"Use_Bucket\":\"ETL\",\"User_Bucket\":\"SEMANTIC\",\"User_Department\":\"SALESOPS\",\"User_Region\":\"n/a\",\"User_SubDepartment\":\"OPS\",\"WDName\":\"n/a\",\"cpusec_in_delaytime\":\".0000\",\"cpusec_in_runtime\":\".0000\",\"iogb_in_delaytime\":\".0000\",\"iogb_in_runtime\":\".0000\",\"qrycnt_in_delaytime\":\"0\",\"qrycnt_in_runtime\":\"0\",\"time_period\":\"over 3600\"},{\"App_Bucket\":\"Python\",\"Is_Discrete_Human\":\"n/a\",\"LogDate\":\"2020-03-10\",\"LogHour\":\"4\",\"Query_Type\":\"n/a\",\"Row_Key\":\"1625302\",\"Run_Id\":\"245\",\"Site_ID\":\"APPLE46REDWOOD\",\"Statement_Bucket\":\"Merge/Update/Delete\",\"Total_AMPs\":\"2928\",\"Use_Bucket\":\"Analytic\",\"User_Bucket\":\"ADHOC\",\"User_Department\":\"SALESOPS\",\"User_Region\":\"n/a\",\"User_SubDepartment\":\"OPS\",\"WDName\":\"n/a\",\"cpusec_in_delaytime\":\".0000\",\"cpusec_in_runtime\":\"826.0000\",\"iogb_in_delaytime\":\".0000\",\"iogb_in_runtime\":\"1400.0000\",\"qrycnt_in_delaytime\":\"0\",\"qrycnt_in_runtime\":\"4\",\"time_period\":\"5 to 10\"},{\"App_Bucket\":\"BTEQ\",\"Is_Discrete_Human\":\"n/a\",\"LogDate\":\"2020-03-10\",\"LogHour\":\"4\",\"Query_Type\":\"n/a\",\"Row_Key\":\"13241684\",\"Run_Id\":\"245\",\"Site_ID\":\"APPLE46REDWOOD\",\"Statement_Bucket\":\"Insert\",\"Total_AMPs\":\"2928\",\"Use_Bucket\":\"ETL\",\"User_Bucket\":\"ADHOC\",\"User_Department\":\"SALESOPS\",\"User_Region\":\"n/a\",\"User_SubDepartment\":\"OPS\",\"WDName\":\"n/a\",\"cpusec_in_delaytime\":\".0000\",\"cpusec_in_runtime\":\".0000\",\"iogb_in_delaytime\":\".0000\",\"iogb_in_runtime\":\".0000\",\"qrycnt_in_delaytime\":\"0\",\"qrycnt_in_runtime\":\"0\",\"time_period\":\"60 to 300\"},{\"App_Bucket\":\"TPT\",\"Is_Discrete_Human\":\"n/a\",\"LogDate\":\"2020-03-10\",\"LogHour\":\"4\",\"Query_Type\":\"n/a\",\"Row_Key\":\"8330760\",\"Run_Id\":\"245\",\"Site_ID\":\"APPLE46REDWOOD\",\"Statement_Bucket\":\"Select\",\"Total_AMPs\":\"2928\",\"Use_Bucket\":\"ETL/Export\",\"User_Bucket\":\"ADHOC\",\"User_Department\":\"ITUNES\",\"User_Region\":\"n/a\",\"User_SubDepartment\":\"ITUNES\",\"WDName\":\"n/a\",\"cpusec_in_delaytime\":\".0000\",\"cpusec_in_runtime\":\".0000\",\"iogb_in_delaytime\":\".0000\",\"iogb_in_runtime\":\".0000\",\"qrycnt_in_delaytime\":\"0\",\"qrycnt_in_runtime\":\"0\",\"time_period\":\"1800 to 3600\"},{\"App_Bucket\":\"JDBC\",\"Is_Discrete_Human\":\"n/a\",\"LogDate\":\"2020-03-10\",\"LogHour\":\"4\",\"Query_Type\":\"n/a\",\"Row_Key\":\"11633976\",\"Run_Id\":\"245\",\"Site_ID\":\"APPLE46REDWOOD\",\"Statement_Bucket\":\"Insert\",\"Total_AMPs\":\"2928\",\"Use_Bucket\":\"Application\",\"User_Bucket\":\"SYSTEM\",\"User_Department\":\"SYSTEM\",\"User_Region\":\"n/a\",\"User_SubDepartment\":\"SYSTEM\",\"WDName\":\"n/a\",\"cpusec_in_delaytime\":\".0000\",\"cpusec_in_runtime\":\".0000\",\"iogb_in_delaytime\":\".0000\",\"iogb_in_runtime\":\".0000\",\"qrycnt_in_delaytime\":\"0\",\"qrycnt_in_runtime\":\"0\",\"time_period\":\"300 to 600\"},{\"App_Bucket\":\"Unknown\",\"Is_Discrete_Human\":\"n/a\",\"LogDate\":\"2020-03-10\",\"LogHour\":\"4\",\"Query_Type\":\"n/a\",\"Row_Key\":\"7933466\",\"Run_Id\":\"245\",\"Site_ID\":\"APPLE46REDWOOD\",\"Statement_Bucket\":\"Other\",\"Total_AMPs\":\"2928\",\"Use_Bucket\":\"Unknown\",\"User_Bucket\":\"OUTBOUND\",\"User_Department\":\"SALESOPS\",\"User_Region\":\"n/a\",\"User_SubDepartment\":\"FINANCE\",\"WDName\":\"n/a\",\"cpusec_in_delaytime\":\".0000\",\"cpusec_in_runtime\":\".0000\",\"iogb_in_delaytime\":\".0000\",\"iogb_in_runtime\":\".0000\",\"qrycnt_in_delaytime\":\"0\",\"qrycnt_in_runtime\":\"0\",\"time_period\":\"over 3600\"},{\"App_Bucket\":\"BTEQ\",\"Is_Discrete_Human\":\"n/a\",\"LogDate\":\"2020-03-10\",\"LogHour\":\"4\",\"Query_Type\":\"n/a\",\"Row_Key\":\"4943588\",\"Run_Id\":\"245\",\"Site_ID\":\"APPLE46REDWOOD\",\"Statement_Bucket\":\"Create/Drop\",\"Total_AMPs\":\"2928\",\"Use_Bucket\":\"ETL\",\"User_Bucket\":\"ADHOC\",\"User_Department\":\"SALESOPS\",\"User_Region\":\"n/a\",\"User_SubDepartment\":\"SALES\",\"WDName\":\"n/a\",\"cpusec_in_delaytime\":\".0000\",\"cpusec_in_runtime\":\".0000\",\"iogb_in_delaytime\":\".0000\",\"iogb_in_runtime\":\".0000\",\"qrycnt_in_delaytime\":\"0\",\"qrycnt_in_runtime\":\"0\",\"time_period\":\"over 3600\"},{\"App_Bucket\":\"Tableau\",\"Is_Discrete_Human\":\"n/a\",\"LogDate\":\"2020-03-10\",\"LogHour\":\"4\",\"Query_Type\":\"n/a\",\"Row_Key\":\"9536338\",\"Run_Id\":\"245\",\"Site_ID\":\"APPLE46REDWOOD\",\"Statement_Bucket\":\"Create/Drop\",\"Total_AMPs\":\"2928\",\"Use_Bucket\":\"Analytic\",\"User_Bucket\":\"DASHBOARD\",\"User_Department\":\"SALESOPS\",\"User_Region\":\"n/a\",\"User_SubDepartment\":\"OPS\",\"WDName\":\"n/a\",\"cpusec_in_delaytime\":\".0000\",\"cpusec_in_runtime\":\".0000\",\"iogb_in_delaytime\":\".0000\",\"iogb_in_runtime\":\".0000\",\"qrycnt_in_delaytime\":\"0\",\"qrycnt_in_runtime\":\"0\",\"time_period\":\"600 to 1800\"},{\"App_Bucket\":\"BTEQ\",\"Is_Discrete_Human\":\"n/a\",\"LogDate\":\"2020-03-10\",\"LogHour\":\"4\",\"Query_Type\":\"n/a\",\"Row_Key\":\"3522908\",\"Run_Id\":\"245\",\"Site_ID\":\"APPLE46REDWOOD\",\"Statement_Bucket\":\"Create/Drop\",\"Total_AMPs\":\"2928\",\"Use_Bucket\":\"ETL\",\"User_Bucket\":\"SEMANTIC\",\"User_Department\":\"SALESOPS\",\"User_Region\":\"n/a\",\"User_SubDepartment\":\"SALES\",\"WDName\":\"n/a\",\"cpusec_in_delaytime\":\".0000\",\"cpusec_in_runtime\":\".0000\",\"iogb_in_delaytime\":\".0000\",\"iogb_in_runtime\":\".0000\",\"qrycnt_in_delaytime\":\"0\",\"qrycnt_in_runtime\":\"0\",\"time_period\":\"60 to 300\"},{\"App_Bucket\":\"BTEQ\",\"Is_Discrete_Human\":\"n/a\",\"LogDate\":\"2020-03-10\",\"LogHour\":\"4\",\"Query_Type\":\"n/a\",\"Row_Key\":\"4354302\",\"Run_Id\":\"245\",\"Site_ID\":\"APPLE46REDWOOD\",\"Statement_Bucket\":\"Other\",\"Total_AMPs\":\"2928\",\"Use_Bucket\":\"ETL\",\"User_Bucket\":\"DATA_ENG\",\"User_Department\":\"salesops\",\"User_Region\":\"n/a\",\"User_SubDepartment\":\"OPS\",\"WDName\":\"n/a\",\"cpusec_in_delaytime\":\".0000\",\"cpusec_in_runtime\":\".0000\",\"iogb_in_delaytime\":\".0000\",\"iogb_in_runtime\":\".0000\",\"qrycnt_in_delaytime\":\"0\",\"qrycnt_in_runtime\":\"0\",\"time_period\":\"10 to 30\"},{\"App_Bucket\":\"TPT\",\"Is_Discrete_Human\":\"n/a\",\"LogDate\":\"2020-03-10\",\"LogHour\":\"4\",\"Query_Type\":\"n/a\",\"Row_Key\":\"4545872\",\"Run_Id\":\"245\",\"Site_ID\":\"APPLE46REDWOOD\",\"Statement_Bucket\":\"Load\",\"Total_AMPs\":\"2928\",\"Use_Bucket\":\"ETL\",\"User_Bucket\":\"OUTBOUND\",\"User_Department\":\"APPLECARE\",\"User_Region\":\"n/a\",\"User_SubDepartment\":\"CONTACT CENTER\",\"WDName\":\"n/a\",\"cpusec_in_delaytime\":\".0000\",\"cpusec_in_runtime\":\".0000\",\"iogb_in_delaytime\":\".0000\",\"iogb_in_runtime\":\".0000\",\"qrycnt_in_delaytime\":\"0\",\"qrycnt_in_runtime\":\"0\",\"time_period\":\"1800 to 3600\"},{\"App_Bucket\":\"BTEQ\",\"Is_Discrete_Human\":\"n/a\",\"LogDate\":\"2020-03-10\",\"LogHour\":\"4\",\"Query_Type\":\"n/a\",\"Row_Key\":\"5642006\",\"Run_Id\":\"245\",\"Site_ID\":\"APPLE46REDWOOD\",\"Statement_Bucket\":\"Collect Stats\",\"Total_AMPs\":\"2928\",\"Use_Bucket\":\"ETL\",\"User_Bucket\":\"SEMANTIC\",\"User_Department\":\"SALESOPS\",\"User_Region\":\"n/a\",\"User_SubDepartment\":\"SALES\",\"WDName\":\"n/a\",\"cpusec_in_delaytime\":\".0000\",\"cpusec_in_runtime\":\".0000\",\"iogb_in_delaytime\":\".0000\",\"iogb_in_runtime\":\".0000\",\"qrycnt_in_delaytime\":\"0\",\"qrycnt_in_runtime\":\"0\",\"time_period\":\"1800 to 3600\"}]\n",
      "text/html": [
       "<div class = \"td-resultset-table-div\" style = \"max-height: 483px; overflow-y: auto\">\n",
       "  <table class=\"tdhistory813373\"><style>\n",
       "    table.tdhistory813373 { display: block !important; min-height: 483px !important; overflow: auto !important; height: 483px !important; width: 100% !important; border: 1px solid rgb(207, 207, 207) !important; border-collapse: collapse !important; ; color: var(--jp-ui-font-color1) !important; }\n",
       "    th.tdhistory813373 { border: 1px solid rgb(198,198,198) !important; border-collapse: collapse !important; ; padding: 2px 5px !important; ; font-size: 13px !important; ; text-align: center !important; white-space: normal !important; color: var(--jp-ui-font-color1) !important; }\n",
       "    th.tdhistory813373:last-child { text-align: left !important; }\n",
       "    tbody.tdhistory813373 tr:nth-child(even) { background: rgba(243, 243, 243, 0.75) !important; }\n",
       "    tbody.tdhistory813373 tr:nth-child(odd) { background: var(--jp-ui-inverse-font-color1) !important; }\n",
       "  td.tdhistory813373 { border: 1px solid rgb(207, 207, 207) !important; border-collapse: collapse !important; ; padding: 2px 5px !important; ; font-size: 13px !important; ; min-width:150px !important; max-width: 150px !important;text-align: left !important;        white-space: nowrap !important; overflow:hidden !important; text-overflow:ellipsis !important;; }\n",
       "  </style><thead><tr style= \"background: #bababa;\"><th class=\"tdhistory813373\">Row_Key</th><th class=\"tdhistory813373\">Site_ID</th><th class=\"tdhistory813373\">LogDate</th><th class=\"tdhistory813373\">LogHour</th><th class=\"tdhistory813373\">App_Bucket</th><th class=\"tdhistory813373\">Use_Bucket</th><th class=\"tdhistory813373\">Statement_Bucket</th><th class=\"tdhistory813373\">User_Bucket</th><th class=\"tdhistory813373\">Is_Discrete_Human</th><th class=\"tdhistory813373\">User_Department</th><th class=\"tdhistory813373\">User_SubDepartment</th><th class=\"tdhistory813373\">User_Region</th><th class=\"tdhistory813373\">WDName</th><th class=\"tdhistory813373\">Query_Type</th><th class=\"tdhistory813373\">Total_AMPs</th><th class=\"tdhistory813373\">time_period</th><th class=\"tdhistory813373\">qrycnt_in_runtime</th><th class=\"tdhistory813373\">cpusec_in_runtime</th><th class=\"tdhistory813373\">iogb_in_runtime</th><th class=\"tdhistory813373\">qrycnt_in_delaytime</th><th class=\"tdhistory813373\">cpusec_in_delaytime</th><th class=\"tdhistory813373\">iogb_in_delaytime</th><th class=\"tdhistory813373\">Run_Id</th></tr></thead><tbody class=\"tdhistory813373 resultset-body\"><tr><td class=\"tdhistory813373\">5642006</td><td class=\"tdhistory813373\">APPLE46REDWOOD</td><td class=\"tdhistory813373\">2020-03-10</td><td class=\"tdhistory813373\">4</td><td class=\"tdhistory813373\">BTEQ</td><td class=\"tdhistory813373\">ETL</td><td class=\"tdhistory813373\">Collect Stats</td><td class=\"tdhistory813373\">SEMANTIC</td><td class=\"tdhistory813373\">n/a</td><td class=\"tdhistory813373\">SALESOPS</td><td class=\"tdhistory813373\">SALES</td><td class=\"tdhistory813373\">n/a</td><td class=\"tdhistory813373\">n/a</td><td class=\"tdhistory813373\">n/a</td><td class=\"tdhistory813373\">2928</td><td class=\"tdhistory813373\">over 3600</td><td class=\"tdhistory813373\">0</td><td class=\"tdhistory813373\">.0000</td><td class=\"tdhistory813373\">.0000</td><td class=\"tdhistory813373\">0</td><td class=\"tdhistory813373\">.0000</td><td class=\"tdhistory813373\">.0000</td><td class=\"tdhistory813373\">245</td></tr><tr><td class=\"tdhistory813373\">8022904</td><td class=\"tdhistory813373\">APPLE46REDWOOD</td><td class=\"tdhistory813373\">2020-03-10</td><td class=\"tdhistory813373\">4</td><td class=\"tdhistory813373\">TPT</td><td class=\"tdhistory813373\">ETL</td><td class=\"tdhistory813373\">Create/Drop</td><td class=\"tdhistory813373\">CORE ETL</td><td class=\"tdhistory813373\">n/a</td><td class=\"tdhistory813373\">APPLECARE</td><td class=\"tdhistory813373\">CONTACT CENTER</td><td class=\"tdhistory813373\">n/a</td><td class=\"tdhistory813373\">n/a</td><td class=\"tdhistory813373\">n/a</td><td class=\"tdhistory813373\">2928</td><td class=\"tdhistory813373\">over 3600</td><td class=\"tdhistory813373\">0</td><td class=\"tdhistory813373\">.0000</td><td class=\"tdhistory813373\">.0000</td><td class=\"tdhistory813373\">0</td><td class=\"tdhistory813373\">.0000</td><td class=\"tdhistory813373\">.0000</td><td class=\"tdhistory813373\">245</td></tr><tr><td class=\"tdhistory813373\">12735764</td><td class=\"tdhistory813373\">APPLE46REDWOOD</td><td class=\"tdhistory813373\">2020-03-10</td><td class=\"tdhistory813373\">4</td><td class=\"tdhistory813373\">Unknown</td><td class=\"tdhistory813373\">Unknown</td><td class=\"tdhistory813373\">Other</td><td class=\"tdhistory813373\">Dashboard</td><td class=\"tdhistory813373\">n/a</td><td class=\"tdhistory813373\">SALESOPS</td><td class=\"tdhistory813373\">OPS</td><td class=\"tdhistory813373\">n/a</td><td class=\"tdhistory813373\">n/a</td><td class=\"tdhistory813373\">n/a</td><td class=\"tdhistory813373\">2928</td><td class=\"tdhistory813373\">60 to 300</td><td class=\"tdhistory813373\">0</td><td class=\"tdhistory813373\">.0000</td><td class=\"tdhistory813373\">.0000</td><td class=\"tdhistory813373\">0</td><td class=\"tdhistory813373\">.0000</td><td class=\"tdhistory813373\">.0000</td><td class=\"tdhistory813373\">245</td></tr><tr><td class=\"tdhistory813373\">6737562</td><td class=\"tdhistory813373\">APPLE46REDWOOD</td><td class=\"tdhistory813373\">2020-03-10</td><td class=\"tdhistory813373\">4</td><td class=\"tdhistory813373\">TPT</td><td class=\"tdhistory813373\">ETL</td><td class=\"tdhistory813373\">Create/Drop</td><td class=\"tdhistory813373\">CORE ETL</td><td class=\"tdhistory813373\">n/a</td><td class=\"tdhistory813373\">SALESOPS</td><td class=\"tdhistory813373\">FINANCE</td><td class=\"tdhistory813373\">n/a</td><td class=\"tdhistory813373\">n/a</td><td class=\"tdhistory813373\">n/a</td><td class=\"tdhistory813373\">2928</td><td class=\"tdhistory813373\">1800 to 3600</td><td class=\"tdhistory813373\">0</td><td class=\"tdhistory813373\">.0000</td><td class=\"tdhistory813373\">.0000</td><td class=\"tdhistory813373\">0</td><td class=\"tdhistory813373\">.0000</td><td class=\"tdhistory813373\">.0000</td><td class=\"tdhistory813373\">245</td></tr><tr><td class=\"tdhistory813373\">13824952</td><td class=\"tdhistory813373\">APPLE46REDWOOD</td><td class=\"tdhistory813373\">2020-03-10</td><td class=\"tdhistory813373\">4</td><td class=\"tdhistory813373\">TPTStream</td><td class=\"tdhistory813373\">ETL</td><td class=\"tdhistory813373\">Admin</td><td class=\"tdhistory813373\">CORE ETL</td><td class=\"tdhistory813373\">n/a</td><td class=\"tdhistory813373\">MARKETING</td><td class=\"tdhistory813373\">MARKETING</td><td class=\"tdhistory813373\">n/a</td><td class=\"tdhistory813373\">n/a</td><td class=\"tdhistory813373\">n/a</td><td class=\"tdhistory813373\">2928</td><td class=\"tdhistory813373\">10 to 30</td><td class=\"tdhistory813373\">0</td><td class=\"tdhistory813373\">.0000</td><td class=\"tdhistory813373\">.0000</td><td class=\"tdhistory813373\">0</td><td class=\"tdhistory813373\">.0000</td><td class=\"tdhistory813373\">.0000</td><td class=\"tdhistory813373\">245</td></tr><tr><td class=\"tdhistory813373\">4354302</td><td class=\"tdhistory813373\">APPLE46REDWOOD</td><td class=\"tdhistory813373\">2020-03-10</td><td class=\"tdhistory813373\">4</td><td class=\"tdhistory813373\">BTEQ</td><td class=\"tdhistory813373\">ETL</td><td class=\"tdhistory813373\">Other</td><td class=\"tdhistory813373\">DATA_ENG</td><td class=\"tdhistory813373\">n/a</td><td class=\"tdhistory813373\">salesops</td><td class=\"tdhistory813373\">OPS</td><td class=\"tdhistory813373\">n/a</td><td class=\"tdhistory813373\">n/a</td><td class=\"tdhistory813373\">n/a</td><td class=\"tdhistory813373\">2928</td><td class=\"tdhistory813373\">30 to 60</td><td class=\"tdhistory813373\">0</td><td class=\"tdhistory813373\">.0000</td><td class=\"tdhistory813373\">.0000</td><td class=\"tdhistory813373\">0</td><td class=\"tdhistory813373\">.0000</td><td class=\"tdhistory813373\">.0000</td><td class=\"tdhistory813373\">245</td></tr><tr><td class=\"tdhistory813373\">4545872</td><td class=\"tdhistory813373\">APPLE46REDWOOD</td><td class=\"tdhistory813373\">2020-03-10</td><td class=\"tdhistory813373\">4</td><td class=\"tdhistory813373\">TPT</td><td class=\"tdhistory813373\">ETL</td><td class=\"tdhistory813373\">Load</td><td class=\"tdhistory813373\">OUTBOUND</td><td class=\"tdhistory813373\">n/a</td><td class=\"tdhistory813373\">APPLECARE</td><td class=\"tdhistory813373\">CONTACT CENTER</td><td class=\"tdhistory813373\">n/a</td><td class=\"tdhistory813373\">n/a</td><td class=\"tdhistory813373\">n/a</td><td class=\"tdhistory813373\">2928</td><td class=\"tdhistory813373\">0 to 1</td><td class=\"tdhistory813373\">124</td><td class=\"tdhistory813373\">211.0000</td><td class=\"tdhistory813373\">182.0000</td><td class=\"tdhistory813373\">132</td><td class=\"tdhistory813373\">274.0000</td><td class=\"tdhistory813373\">230.0000</td><td class=\"tdhistory813373\">245</td></tr><tr><td class=\"tdhistory813373\">6442930</td><td class=\"tdhistory813373\">APPLE46REDWOOD</td><td class=\"tdhistory813373\">2020-03-10</td><td class=\"tdhistory813373\">4</td><td class=\"tdhistory813373\">TPTStream</td><td class=\"tdhistory813373\">ETL</td><td class=\"tdhistory813373\">Merge/Update/Delete</td><td class=\"tdhistory813373\">CORE ETL</td><td class=\"tdhistory813373\">n/a</td><td class=\"tdhistory813373\">SALESOPS</td><td class=\"tdhistory813373\">SALES</td><td class=\"tdhistory813373\">n/a</td><td class=\"tdhistory813373\">n/a</td><td class=\"tdhistory813373\">n/a</td><td class=\"tdhistory813373\">2928</td><td class=\"tdhistory813373\">5 to 10</td><td class=\"tdhistory813373\">0</td><td class=\"tdhistory813373\">.0000</td><td class=\"tdhistory813373\">.0000</td><td class=\"tdhistory813373\">0</td><td class=\"tdhistory813373\">.0000</td><td class=\"tdhistory813373\">.0000</td><td class=\"tdhistory813373\">245</td></tr><tr><td class=\"tdhistory813373\">3032202</td><td class=\"tdhistory813373\">APPLE46REDWOOD</td><td class=\"tdhistory813373\">2020-03-10</td><td class=\"tdhistory813373\">4</td><td class=\"tdhistory813373\">BTEQ</td><td class=\"tdhistory813373\">ETL</td><td class=\"tdhistory813373\">Select</td><td class=\"tdhistory813373\">SEMANTIC</td><td class=\"tdhistory813373\">n/a</td><td class=\"tdhistory813373\">SALESOPS</td><td class=\"tdhistory813373\">OPS</td><td class=\"tdhistory813373\">n/a</td><td class=\"tdhistory813373\">n/a</td><td class=\"tdhistory813373\">n/a</td><td class=\"tdhistory813373\">2928</td><td class=\"tdhistory813373\">over 3600</td><td class=\"tdhistory813373\">0</td><td class=\"tdhistory813373\">.0000</td><td class=\"tdhistory813373\">.0000</td><td class=\"tdhistory813373\">0</td><td class=\"tdhistory813373\">.0000</td><td class=\"tdhistory813373\">.0000</td><td class=\"tdhistory813373\">245</td></tr><tr><td class=\"tdhistory813373\">1625302</td><td class=\"tdhistory813373\">APPLE46REDWOOD</td><td class=\"tdhistory813373\">2020-03-10</td><td class=\"tdhistory813373\">4</td><td class=\"tdhistory813373\">Python</td><td class=\"tdhistory813373\">Analytic</td><td class=\"tdhistory813373\">Merge/Update/Delete</td><td class=\"tdhistory813373\">ADHOC</td><td class=\"tdhistory813373\">n/a</td><td class=\"tdhistory813373\">SALESOPS</td><td class=\"tdhistory813373\">OPS</td><td class=\"tdhistory813373\">n/a</td><td class=\"tdhistory813373\">n/a</td><td class=\"tdhistory813373\">n/a</td><td class=\"tdhistory813373\">2928</td><td class=\"tdhistory813373\">5 to 10</td><td class=\"tdhistory813373\">4</td><td class=\"tdhistory813373\">826.0000</td><td class=\"tdhistory813373\">1400.0000</td><td class=\"tdhistory813373\">0</td><td class=\"tdhistory813373\">.0000</td><td class=\"tdhistory813373\">.0000</td><td class=\"tdhistory813373\">245</td></tr><tr><td class=\"tdhistory813373\">13241684</td><td class=\"tdhistory813373\">APPLE46REDWOOD</td><td class=\"tdhistory813373\">2020-03-10</td><td class=\"tdhistory813373\">4</td><td class=\"tdhistory813373\">BTEQ</td><td class=\"tdhistory813373\">ETL</td><td class=\"tdhistory813373\">Insert</td><td class=\"tdhistory813373\">ADHOC</td><td class=\"tdhistory813373\">n/a</td><td class=\"tdhistory813373\">SALESOPS</td><td class=\"tdhistory813373\">OPS</td><td class=\"tdhistory813373\">n/a</td><td class=\"tdhistory813373\">n/a</td><td class=\"tdhistory813373\">n/a</td><td class=\"tdhistory813373\">2928</td><td class=\"tdhistory813373\">60 to 300</td><td class=\"tdhistory813373\">0</td><td class=\"tdhistory813373\">.0000</td><td class=\"tdhistory813373\">.0000</td><td class=\"tdhistory813373\">0</td><td class=\"tdhistory813373\">.0000</td><td class=\"tdhistory813373\">.0000</td><td class=\"tdhistory813373\">245</td></tr><tr><td class=\"tdhistory813373\">8330760</td><td class=\"tdhistory813373\">APPLE46REDWOOD</td><td class=\"tdhistory813373\">2020-03-10</td><td class=\"tdhistory813373\">4</td><td class=\"tdhistory813373\">TPT</td><td class=\"tdhistory813373\">ETL/Export</td><td class=\"tdhistory813373\">Select</td><td class=\"tdhistory813373\">ADHOC</td><td class=\"tdhistory813373\">n/a</td><td class=\"tdhistory813373\">ITUNES</td><td class=\"tdhistory813373\">ITUNES</td><td class=\"tdhistory813373\">n/a</td><td class=\"tdhistory813373\">n/a</td><td class=\"tdhistory813373\">n/a</td><td class=\"tdhistory813373\">2928</td><td class=\"tdhistory813373\">1800 to 3600</td><td class=\"tdhistory813373\">0</td><td class=\"tdhistory813373\">.0000</td><td class=\"tdhistory813373\">.0000</td><td class=\"tdhistory813373\">0</td><td class=\"tdhistory813373\">.0000</td><td class=\"tdhistory813373\">.0000</td><td class=\"tdhistory813373\">245</td></tr><tr><td class=\"tdhistory813373\">11633976</td><td class=\"tdhistory813373\">APPLE46REDWOOD</td><td class=\"tdhistory813373\">2020-03-10</td><td class=\"tdhistory813373\">4</td><td class=\"tdhistory813373\">JDBC</td><td class=\"tdhistory813373\">Application</td><td class=\"tdhistory813373\">Insert</td><td class=\"tdhistory813373\">SYSTEM</td><td class=\"tdhistory813373\">n/a</td><td class=\"tdhistory813373\">SYSTEM</td><td class=\"tdhistory813373\">SYSTEM</td><td class=\"tdhistory813373\">n/a</td><td class=\"tdhistory813373\">n/a</td><td class=\"tdhistory813373\">n/a</td><td class=\"tdhistory813373\">2928</td><td class=\"tdhistory813373\">300 to 600</td><td class=\"tdhistory813373\">0</td><td class=\"tdhistory813373\">.0000</td><td class=\"tdhistory813373\">.0000</td><td class=\"tdhistory813373\">0</td><td class=\"tdhistory813373\">.0000</td><td class=\"tdhistory813373\">.0000</td><td class=\"tdhistory813373\">245</td></tr><tr><td class=\"tdhistory813373\">7933466</td><td class=\"tdhistory813373\">APPLE46REDWOOD</td><td class=\"tdhistory813373\">2020-03-10</td><td class=\"tdhistory813373\">4</td><td class=\"tdhistory813373\">Unknown</td><td class=\"tdhistory813373\">Unknown</td><td class=\"tdhistory813373\">Other</td><td class=\"tdhistory813373\">OUTBOUND</td><td class=\"tdhistory813373\">n/a</td><td class=\"tdhistory813373\">SALESOPS</td><td class=\"tdhistory813373\">FINANCE</td><td class=\"tdhistory813373\">n/a</td><td class=\"tdhistory813373\">n/a</td><td class=\"tdhistory813373\">n/a</td><td class=\"tdhistory813373\">2928</td><td class=\"tdhistory813373\">over 3600</td><td class=\"tdhistory813373\">0</td><td class=\"tdhistory813373\">.0000</td><td class=\"tdhistory813373\">.0000</td><td class=\"tdhistory813373\">0</td><td class=\"tdhistory813373\">.0000</td><td class=\"tdhistory813373\">.0000</td><td class=\"tdhistory813373\">245</td></tr><tr><td class=\"tdhistory813373\">4943588</td><td class=\"tdhistory813373\">APPLE46REDWOOD</td><td class=\"tdhistory813373\">2020-03-10</td><td class=\"tdhistory813373\">4</td><td class=\"tdhistory813373\">BTEQ</td><td class=\"tdhistory813373\">ETL</td><td class=\"tdhistory813373\">Create/Drop</td><td class=\"tdhistory813373\">ADHOC</td><td class=\"tdhistory813373\">n/a</td><td class=\"tdhistory813373\">SALESOPS</td><td class=\"tdhistory813373\">SALES</td><td class=\"tdhistory813373\">n/a</td><td class=\"tdhistory813373\">n/a</td><td class=\"tdhistory813373\">n/a</td><td class=\"tdhistory813373\">2928</td><td class=\"tdhistory813373\">over 3600</td><td class=\"tdhistory813373\">0</td><td class=\"tdhistory813373\">.0000</td><td class=\"tdhistory813373\">.0000</td><td class=\"tdhistory813373\">0</td><td class=\"tdhistory813373\">.0000</td><td class=\"tdhistory813373\">.0000</td><td class=\"tdhistory813373\">245</td></tr><tr><td class=\"tdhistory813373\">9536338</td><td class=\"tdhistory813373\">APPLE46REDWOOD</td><td class=\"tdhistory813373\">2020-03-10</td><td class=\"tdhistory813373\">4</td><td class=\"tdhistory813373\">Tableau</td><td class=\"tdhistory813373\">Analytic</td><td class=\"tdhistory813373\">Create/Drop</td><td class=\"tdhistory813373\">DASHBOARD</td><td class=\"tdhistory813373\">n/a</td><td class=\"tdhistory813373\">SALESOPS</td><td class=\"tdhistory813373\">OPS</td><td class=\"tdhistory813373\">n/a</td><td class=\"tdhistory813373\">n/a</td><td class=\"tdhistory813373\">n/a</td><td class=\"tdhistory813373\">2928</td><td class=\"tdhistory813373\">600 to 1800</td><td class=\"tdhistory813373\">0</td><td class=\"tdhistory813373\">.0000</td><td class=\"tdhistory813373\">.0000</td><td class=\"tdhistory813373\">0</td><td class=\"tdhistory813373\">.0000</td><td class=\"tdhistory813373\">.0000</td><td class=\"tdhistory813373\">245</td></tr><tr><td class=\"tdhistory813373\">3522908</td><td class=\"tdhistory813373\">APPLE46REDWOOD</td><td class=\"tdhistory813373\">2020-03-10</td><td class=\"tdhistory813373\">4</td><td class=\"tdhistory813373\">BTEQ</td><td class=\"tdhistory813373\">ETL</td><td class=\"tdhistory813373\">Create/Drop</td><td class=\"tdhistory813373\">SEMANTIC</td><td class=\"tdhistory813373\">n/a</td><td class=\"tdhistory813373\">SALESOPS</td><td class=\"tdhistory813373\">SALES</td><td class=\"tdhistory813373\">n/a</td><td class=\"tdhistory813373\">n/a</td><td class=\"tdhistory813373\">n/a</td><td class=\"tdhistory813373\">2928</td><td class=\"tdhistory813373\">60 to 300</td><td class=\"tdhistory813373\">0</td><td class=\"tdhistory813373\">.0000</td><td class=\"tdhistory813373\">.0000</td><td class=\"tdhistory813373\">0</td><td class=\"tdhistory813373\">.0000</td><td class=\"tdhistory813373\">.0000</td><td class=\"tdhistory813373\">245</td></tr><tr><td class=\"tdhistory813373\">4354302</td><td class=\"tdhistory813373\">APPLE46REDWOOD</td><td class=\"tdhistory813373\">2020-03-10</td><td class=\"tdhistory813373\">4</td><td class=\"tdhistory813373\">BTEQ</td><td class=\"tdhistory813373\">ETL</td><td class=\"tdhistory813373\">Other</td><td class=\"tdhistory813373\">DATA_ENG</td><td class=\"tdhistory813373\">n/a</td><td class=\"tdhistory813373\">salesops</td><td class=\"tdhistory813373\">OPS</td><td class=\"tdhistory813373\">n/a</td><td class=\"tdhistory813373\">n/a</td><td class=\"tdhistory813373\">n/a</td><td class=\"tdhistory813373\">2928</td><td class=\"tdhistory813373\">10 to 30</td><td class=\"tdhistory813373\">0</td><td class=\"tdhistory813373\">.0000</td><td class=\"tdhistory813373\">.0000</td><td class=\"tdhistory813373\">0</td><td class=\"tdhistory813373\">.0000</td><td class=\"tdhistory813373\">.0000</td><td class=\"tdhistory813373\">245</td></tr><tr><td class=\"tdhistory813373\">4545872</td><td class=\"tdhistory813373\">APPLE46REDWOOD</td><td class=\"tdhistory813373\">2020-03-10</td><td class=\"tdhistory813373\">4</td><td class=\"tdhistory813373\">TPT</td><td class=\"tdhistory813373\">ETL</td><td class=\"tdhistory813373\">Load</td><td class=\"tdhistory813373\">OUTBOUND</td><td class=\"tdhistory813373\">n/a</td><td class=\"tdhistory813373\">APPLECARE</td><td class=\"tdhistory813373\">CONTACT CENTER</td><td class=\"tdhistory813373\">n/a</td><td class=\"tdhistory813373\">n/a</td><td class=\"tdhistory813373\">n/a</td><td class=\"tdhistory813373\">2928</td><td class=\"tdhistory813373\">1800 to 3600</td><td class=\"tdhistory813373\">0</td><td class=\"tdhistory813373\">.0000</td><td class=\"tdhistory813373\">.0000</td><td class=\"tdhistory813373\">0</td><td class=\"tdhistory813373\">.0000</td><td class=\"tdhistory813373\">.0000</td><td class=\"tdhistory813373\">245</td></tr><tr><td class=\"tdhistory813373\">5642006</td><td class=\"tdhistory813373\">APPLE46REDWOOD</td><td class=\"tdhistory813373\">2020-03-10</td><td class=\"tdhistory813373\">4</td><td class=\"tdhistory813373\">BTEQ</td><td class=\"tdhistory813373\">ETL</td><td class=\"tdhistory813373\">Collect Stats</td><td class=\"tdhistory813373\">SEMANTIC</td><td class=\"tdhistory813373\">n/a</td><td class=\"tdhistory813373\">SALESOPS</td><td class=\"tdhistory813373\">SALES</td><td class=\"tdhistory813373\">n/a</td><td class=\"tdhistory813373\">n/a</td><td class=\"tdhistory813373\">n/a</td><td class=\"tdhistory813373\">2928</td><td class=\"tdhistory813373\">1800 to 3600</td><td class=\"tdhistory813373\">0</td><td class=\"tdhistory813373\">.0000</td><td class=\"tdhistory813373\">.0000</td><td class=\"tdhistory813373\">0</td><td class=\"tdhistory813373\">.0000</td><td class=\"tdhistory813373\">.0000</td><td class=\"tdhistory813373\">245</td></tr></tbody></table></div>"
      ]
     },
     "execution_count": 13,
     "metadata": {
      "application/vnd.teradata.resultset": "{\"resultSetID\":\"C:\\\\\\\\Users\\\\\\\\sc160001\\\\\\\\Teradata\\\\\\\\Resultsets\\\\\\\\2020.06.15_13.19.59.022_PDT\",\"historyID\":61,\"chunkID\":\"00001\",\"sessionid\":\"\",\"portnum\":\"\",\"dockermode\":\"standalone\",\"totalRowCount\":20,\"chunkCount\":0,\"rowLimit\":0,\"columnMetadata\":[{\"columnName\":\"Row_Key\",\"columnTypeName\":\"INTEGER\"},{\"columnNumber\":1,\"columnName\":\"Site_ID\",\"columnTypeName\":\"VARCHAR\",\"length\":64,\"scale\":64},{\"columnNumber\":2,\"columnName\":\"LogDate\",\"columnTypeName\":\"DATE\"},{\"columnNumber\":3,\"columnName\":\"LogHour\",\"columnTypeName\":\"INTEGER\"},{\"columnNumber\":4,\"columnName\":\"App_Bucket\",\"columnTypeName\":\"VARCHAR\",\"length\":256,\"scale\":256},{\"columnNumber\":5,\"columnName\":\"Use_Bucket\",\"columnTypeName\":\"VARCHAR\",\"length\":256,\"scale\":256},{\"columnNumber\":6,\"columnName\":\"Statement_Bucket\",\"columnTypeName\":\"VARCHAR\",\"length\":256,\"scale\":256},{\"columnNumber\":7,\"columnName\":\"User_Bucket\",\"columnTypeName\":\"VARCHAR\",\"length\":256,\"scale\":256},{\"columnNumber\":8,\"columnName\":\"Is_Discrete_Human\",\"columnTypeName\":\"VARCHAR\",\"length\":3,\"scale\":3},{\"columnNumber\":9,\"columnName\":\"User_Department\",\"columnTypeName\":\"VARCHAR\",\"length\":256,\"scale\":256},{\"columnNumber\":10,\"columnName\":\"User_SubDepartment\",\"columnTypeName\":\"VARCHAR\",\"length\":256,\"scale\":256},{\"columnNumber\":11,\"columnName\":\"User_Region\",\"columnTypeName\":\"VARCHAR\",\"length\":3,\"scale\":3},{\"columnNumber\":12,\"columnName\":\"WDName\",\"columnTypeName\":\"VARCHAR\",\"length\":3,\"scale\":3},{\"columnNumber\":13,\"columnName\":\"Query_Type\",\"columnTypeName\":\"VARCHAR\",\"length\":3,\"scale\":3},{\"columnNumber\":14,\"columnName\":\"Total_AMPs\",\"columnTypeName\":\"INTEGER\"},{\"columnNumber\":15,\"columnName\":\"time_period\",\"columnTypeName\":\"VARCHAR\",\"length\":1000,\"scale\":1000},{\"columnNumber\":16,\"columnName\":\"qrycnt_in_runtime\",\"columnTypeName\":\"BIGINT\"},{\"columnNumber\":17,\"columnName\":\"cpusec_in_runtime\",\"columnTypeName\":\"DECIMAL\",\"length\":4,\"precision\":18,\"scale\":4},{\"columnNumber\":18,\"columnName\":\"iogb_in_runtime\",\"columnTypeName\":\"DECIMAL\",\"length\":4,\"precision\":18,\"scale\":4},{\"columnNumber\":19,\"columnName\":\"qrycnt_in_delaytime\",\"columnTypeName\":\"BIGINT\"},{\"columnNumber\":20,\"columnName\":\"cpusec_in_delaytime\",\"columnTypeName\":\"DECIMAL\",\"length\":4,\"precision\":18,\"scale\":4},{\"columnNumber\":21,\"columnName\":\"iogb_in_delaytime\",\"columnTypeName\":\"DECIMAL\",\"length\":4,\"precision\":18,\"scale\":4},{\"columnNumber\":22,\"columnName\":\"Run_Id\",\"columnTypeName\":\"INTEGER\"}]}"
     },
     "output_type": "execute_result"
    }
   ],
   "source": [
    "SELECT TOP 20 * FROM adlste_coa.coa_dat_DBQL_pivot;"
   ]
  },
  {
   "cell_type": "code",
   "execution_count": null,
   "metadata": {},
   "outputs": [],
   "source": []
  }
 ],
 "metadata": {
  "kernelspec": {
   "display_name": "Teradata SQL",
   "language": "Teradata SQL",
   "name": "teradatasql"
  },
  "language_info": {
   "codemirror_mode": "Teradata SQL",
   "file_extension": ".tdrs",
   "mimetype": "application/vnd.teradata.resultset",
   "name": "Teradata SQL",
   "nbconvert_exporter": "",
   "pygments_lexer": "",
   "version": "16.20"
  }
 },
 "nbformat": 4,
 "nbformat_minor": 4
}
