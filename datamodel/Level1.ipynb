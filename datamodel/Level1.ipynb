{
 "cells": [
  {
   "cell_type": "markdown",
   "metadata": {},
   "source": [
    "# Create Level1 Objects (old CA) in ADLSTE_COA "
   ]
  },
  {
   "cell_type": "markdown",
   "metadata": {},
   "source": [
    "<br/><br/><br/>\n",
    "## CPU Trend"
   ]
  },
  {
   "cell_type": "code",
   "execution_count": 2,
   "metadata": {},
   "outputs": [
    {
     "name": "stdin",
     "output_type": "stream",
     "text": [
      "Password ············\n"
     ]
    },
    {
     "name": "stdout",
     "output_type": "stream",
     "text": [
      "Success: 'Transcend' connection established\n"
     ]
    }
   ],
   "source": [
    "%connect name=Transcend"
   ]
  },
  {
   "cell_type": "code",
   "execution_count": 27,
   "metadata": {},
   "outputs": [
    {
     "data": {
      "text/plain": [
       "Success: 28 rows affected"
      ]
     },
     "execution_count": 27,
     "metadata": {
      "application/vnd.teradata.resultset": ""
     },
     "output_type": "execute_result"
    }
   ],
   "source": [
    "drop table ADLSTE_COA_Stg.stg_dat_level1_CPU_Forecast"
   ]
  },
  {
   "cell_type": "code",
   "execution_count": 28,
   "metadata": {},
   "outputs": [
    {
     "data": {
      "text/plain": [
       "Success: 0 rows affected"
      ]
     },
     "execution_count": 28,
     "metadata": {
      "application/vnd.teradata.resultset": ""
     },
     "output_type": "execute_result"
    }
   ],
   "source": [
    "CREATE MULTISET GLOBAL TEMPORARY TABLE ADLSTE_COA_Stg.stg_dat_level1_CPU_Forecast\n",
    "/* previously: ADLSTE_WestComm.consumption_cpu_forecast_stg */\n",
    "(\n",
    "    SiteID VARCHAR(1024) CHARACTER SET UNICODE NOT CASESPECIFIC,\n",
    "    \"Report Date\" VARCHAR(1024) CHARACTER SET UNICODE NOT CASESPECIFIC,\n",
    "    \"Log Date\" VARCHAR(1024) CHARACTER SET UNICODE NOT CASESPECIFIC,\n",
    "    \"Peak Start\" VARCHAR(1024) CHARACTER SET UNICODE NOT CASESPECIFIC,\n",
    "    \"Peak End\" VARCHAR(1024) CHARACTER SET UNICODE NOT CASESPECIFIC,\n",
    "    \"Avg CPU Pct\" FLOAT,\n",
    "    \"Moving Avg\" FLOAT,\n",
    "    Trend FLOAT,\n",
    "    ReserveX BIGINT,\n",
    "    \"Reserve Horizon\" FLOAT,\n",
    "    SlopeX FLOAT\n",
    ") PRIMARY INDEX ( SiteID ,\"Report Date\" ,\"Log Date\" )\n",
    "ON COMMIT PRESERVE ROWS;"
   ]
  },
  {
   "cell_type": "code",
   "execution_count": 20,
   "metadata": {},
   "outputs": [
    {
     "data": {
      "text/plain": [
       "Success: 0 rows affected"
      ]
     },
     "execution_count": 20,
     "metadata": {
      "application/vnd.teradata.resultset": ""
     },
     "output_type": "execute_result"
    }
   ],
   "source": [
    "CREATE SET TABLE ADLSTE_COA.coat_dat_level1_CPU_Forecast  \n",
    "/* previously: ADLSTE_WestComm.Consumption_CPU_Forecast_V2 */\n",
    "(\n",
    "    SiteID VARCHAR(30) CHARACTER SET LATIN NOT CASESPECIFIC NOT NULL,\n",
    "    \"Report Date\" DATE FORMAT 'YYYY-MM-DD' NOT NULL,\n",
    "    \"Log Date\" DATE FORMAT 'YYYY-MM-DD' NOT NULL,\n",
    "    \"Peak Start\" VARCHAR(30) CHARACTER SET LATIN NOT CASESPECIFIC,\n",
    "    \"Peak End\" VARCHAR(30) CHARACTER SET LATIN NOT CASESPECIFIC,\n",
    "    \"Avg CPU Pct\" DECIMAL(18,4),\n",
    "    \"Moving Avg\" DECIMAL(18,4),\n",
    "    Trend DECIMAL(18,4),\n",
    "    ReserveX DECIMAL(18,4),\n",
    "    \"Reserve Horizon\" DECIMAL(18,4),\n",
    "    SlopeX DECIMAL(18,4)\n",
    ")\n",
    "UNIQUE PRIMARY INDEX ( SiteID ,\"Report Date\" ,\"Log Date\" );"
   ]
  },
  {
   "cell_type": "code",
   "execution_count": 29,
   "metadata": {},
   "outputs": [
    {
     "data": {
      "text/plain": [
       "Success: 12 rows affected"
      ]
     },
     "execution_count": 29,
     "metadata": {
      "application/vnd.teradata.resultset": ""
     },
     "output_type": "execute_result"
    }
   ],
   "source": [
    "replace view  ADLSTE_COA.coa_dat_level1_CPU_Forecast as locking row for access\n",
    "Select * from ADLSTE_COA.coat_dat_level1_CPU_Forecast"
   ]
  },
  {
   "cell_type": "code",
   "execution_count": 22,
   "metadata": {},
   "outputs": [
    {
     "data": {
      "text/plain": [
       "Success: 54078 rows affected"
      ]
     },
     "execution_count": 22,
     "metadata": {
      "application/vnd.teradata.resultset": ""
     },
     "output_type": "execute_result"
    }
   ],
   "source": [
    "insert into ADLSTE_COA.coat_dat_level1_CPU_Forecast\n",
    "Select * from ADLSTE_WestComm.Consumption_CPU_Forecast_V2;"
   ]
  },
  {
   "cell_type": "code",
   "execution_count": 31,
   "metadata": {},
   "outputs": [
    {
     "data": {
      "application/vnd.teradata.resultset": "[{\"Avg CPU Pct\":\"\",\"Log Date\":\"2020-05-19\",\"Moving Avg\":\"\",\"Peak End\":\"?\",\"Peak Start\":\"?\",\"Report Date\":\"2020-05-19\",\"Reserve Horizon\":\"\",\"ReserveX\":\"80.0000\",\"SiteID\":\"SWAIR14\",\"SlopeX\":\".0044\",\"Trend\":\"79.1170\"},{\"Avg CPU Pct\":\"50.5103\",\"Log Date\":\"2017-05-19\",\"Moving Avg\":\"50.6863\",\"Peak End\":\"2017-05-19 04:00:00\",\"Peak Start\":\"2017-05-19 01:00:00\",\"Report Date\":\"2019-06-24\",\"Reserve Horizon\":\"\",\"ReserveX\":\"80.0000\",\"SiteID\":\"Cisco15\",\"SlopeX\":\".0252\",\"Trend\":\"52.0968\"},{\"Avg CPU Pct\":\"\",\"Log Date\":\"2020-12-21\",\"Moving Avg\":\"\",\"Peak End\":\"?\",\"Peak Start\":\"?\",\"Report Date\":\"2019-07-19\",\"Reserve Horizon\":\"99.8855\",\"ReserveX\":\"80.0000\",\"SiteID\":\"PGE3\",\"SlopeX\":\".0453\",\"Trend\":\"99.8855\"},{\"Avg CPU Pct\":\"87.9991\",\"Log Date\":\"2019-07-11\",\"Moving Avg\":\"79.1779\",\"Peak End\":\"2019-07-11 15:00:00\",\"Peak Start\":\"2019-07-11 12:00:00\",\"Report Date\":\"2020-04-07\",\"Reserve Horizon\":\"80.4872\",\"ReserveX\":\"80.0000\",\"SiteID\":\"BLIZZARDTD1\",\"SlopeX\":\"-.0308\",\"Trend\":\"80.4872\"},{\"Avg CPU Pct\":\"\",\"Log Date\":\"2020-09-16\",\"Moving Avg\":\"\",\"Peak End\":\"\",\"Peak Start\":\"\",\"Report Date\":\"2020-03-23\",\"Reserve Horizon\":\"\",\"ReserveX\":\"80.0000\",\"SiteID\":\"BOEINGDWP8\",\"SlopeX\":\"-.0879\",\"Trend\":\"52.6569\"},{\"Avg CPU Pct\":\"68.9475\",\"Log Date\":\"2019-04-15\",\"Moving Avg\":\"69.3681\",\"Peak End\":\"2019-04-15 12:00:00\",\"Peak Start\":\"2019-04-15 09:00:00\",\"Report Date\":\"2019-06-21\",\"Reserve Horizon\":\"\",\"ReserveX\":\"80.0000\",\"SiteID\":\"TDICATTBH1TD01\",\"SlopeX\":\"-.1751\",\"Trend\":\"70.5875\"},{\"Avg CPU Pct\":\"\",\"Log Date\":\"2019-09-20\",\"Moving Avg\":\"\",\"Peak End\":\"\",\"Peak Start\":\"\",\"Report Date\":\"2019-08-06\",\"Reserve Horizon\":\"82.5024\",\"ReserveX\":\"80.0000\",\"SiteID\":\"ebay17\",\"SlopeX\":\".0050\",\"Trend\":\"82.5024\"},{\"Avg CPU Pct\":\"\",\"Log Date\":\"2021-11-01\",\"Moving Avg\":\"\",\"Peak End\":\"\",\"Peak Start\":\"\",\"Report Date\":\"2020-01-18\",\"Reserve Horizon\":\"\",\"ReserveX\":\"80.0000\",\"SiteID\":\"BLIZZARDTD1\",\"SlopeX\":\"-.0285\",\"Trend\":\"54.9042\"},{\"Avg CPU Pct\":\"\",\"Log Date\":\"2021-04-05\",\"Moving Avg\":\"\",\"Peak End\":\"\",\"Peak Start\":\"\",\"Report Date\":\"2020-03-23\",\"Reserve Horizon\":\"\",\"ReserveX\":\"80.0000\",\"SiteID\":\"BOEINGDWPA\",\"SlopeX\":\"-.0111\",\"Trend\":\"54.7325\"},{\"Avg CPU Pct\":\"56.7034\",\"Log Date\":\"2018-05-31\",\"Moving Avg\":\"54.5220\",\"Peak End\":\"2018-05-31 19:00:00\",\"Peak Start\":\"2018-05-31 16:00:00\",\"Report Date\":\"2019-06-24\",\"Reserve Horizon\":\"\",\"ReserveX\":\"80.0000\",\"SiteID\":\"Cisco18B\",\"SlopeX\":\".0044\",\"Trend\":\"46.5047\"}]\n",
      "text/html": [
       "<div class = \"td-resultset-table-div\" style = \"max-height: 257px; overflow-y: auto\"><style> table {border: 1px solid rgb(207, 207, 207) !important; border-collapse: collapse !important; margin-top: 1px !important;} th {border: 1px solid rgb(198,198,198) !important; border-collapse: collapse !important; padding: 2px 5px !important; font-size: 13px !important; min-width:150px !important; max-width: 150px !important; white-space: nowrap !important; overflow:hidden !important; text-overflow:ellipsis !important;} tr:nth-child(even) {background: rgba(243, 243, 243, 0.75) !important;} td {border: 1px solid rgb(207, 207, 207) !important; border-collapse: collapse !important; padding: 2px 5px !important; font-size: 13px !important; min-width:150px !important; max-width: 150px !important; white-space: nowrap !important; overflow:hidden !important; text-overflow:ellipsis !important;}</style><table><thead><tr style= \"background: #efefef;\"><th>SiteID</th><th>Report Date</th><th>Log Date</th><th>Peak Start</th><th>Peak End</th><th>Avg CPU Pct</th><th>Moving Avg</th><th>Trend</th><th>ReserveX</th><th>Reserve Horizon</th><th>SlopeX</th></tr></thead><tr><td>SWAIR14</td><td>2020-05-19</td><td>2020-05-19</td><td>?</td><td>?</td><td></td><td></td><td>79.1170</td><td>80.0000</td><td></td><td>.0044</td></tr><tr><td>Cisco15</td><td>2019-06-24</td><td>2017-05-19</td><td>2017-05-19 01:00:00</td><td>2017-05-19 04:00:00</td><td>50.5103</td><td>50.6863</td><td>52.0968</td><td>80.0000</td><td></td><td>.0252</td></tr><tr><td>PGE3</td><td>2019-07-19</td><td>2020-12-21</td><td>?</td><td>?</td><td></td><td></td><td>99.8855</td><td>80.0000</td><td>99.8855</td><td>.0453</td></tr><tr><td>BLIZZARDTD1</td><td>2020-04-07</td><td>2019-07-11</td><td>2019-07-11 12:00:00</td><td>2019-07-11 15:00:00</td><td>87.9991</td><td>79.1779</td><td>80.4872</td><td>80.0000</td><td>80.4872</td><td>-.0308</td></tr><tr><td>BOEINGDWP8</td><td>2020-03-23</td><td>2020-09-16</td><td></td><td></td><td></td><td></td><td>52.6569</td><td>80.0000</td><td></td><td>-.0879</td></tr><tr><td>TDICATTBH1TD01</td><td>2019-06-21</td><td>2019-04-15</td><td>2019-04-15 09:00:00</td><td>2019-04-15 12:00:00</td><td>68.9475</td><td>69.3681</td><td>70.5875</td><td>80.0000</td><td></td><td>-.1751</td></tr><tr><td>ebay17</td><td>2019-08-06</td><td>2019-09-20</td><td></td><td></td><td></td><td></td><td>82.5024</td><td>80.0000</td><td>82.5024</td><td>.0050</td></tr><tr><td>BLIZZARDTD1</td><td>2020-01-18</td><td>2021-11-01</td><td></td><td></td><td></td><td></td><td>54.9042</td><td>80.0000</td><td></td><td>-.0285</td></tr><tr><td>BOEINGDWPA</td><td>2020-03-23</td><td>2021-04-05</td><td></td><td></td><td></td><td></td><td>54.7325</td><td>80.0000</td><td></td><td>-.0111</td></tr><tr><td>Cisco18B</td><td>2019-06-24</td><td>2018-05-31</td><td>2018-05-31 16:00:00</td><td>2018-05-31 19:00:00</td><td>56.7034</td><td>54.5220</td><td>46.5047</td><td>80.0000</td><td></td><td>.0044</td></tr></table></div>"
      ]
     },
     "execution_count": 31,
     "metadata": {
      "application/vnd.teradata.resultset": "{\"resultSetID\":\"/home/jovyan/JupyterLabRoot/Teradata/Resultsets/2020.05.27_04.28.14.298_UTC\",\"historyID\":118,\"chunkID\":\"00001\",\"sessionid\":\"\",\"portnum\":\"\",\"dockermode\":\"docker\",\"totalRowCount\":10,\"rowLimit\":0,\"columnMetadata\":[{\"columnName\":\"SiteID\",\"columnTypeName\":\"VARCHAR\",\"length\":30,\"scale\":30},{\"columnNumber\":1,\"columnName\":\"Report Date\",\"columnTypeName\":\"DATE\"},{\"columnNumber\":2,\"columnName\":\"Log Date\",\"columnTypeName\":\"DATE\"},{\"columnNumber\":3,\"columnName\":\"Peak Start\",\"columnTypeName\":\"VARCHAR\",\"length\":30,\"scale\":30},{\"columnNumber\":4,\"columnName\":\"Peak End\",\"columnTypeName\":\"VARCHAR\",\"length\":30,\"scale\":30},{\"columnNumber\":5,\"columnName\":\"Avg CPU Pct\",\"columnTypeName\":\"DECIMAL\",\"length\":4,\"precision\":18,\"scale\":4},{\"columnNumber\":6,\"columnName\":\"Moving Avg\",\"columnTypeName\":\"DECIMAL\",\"length\":4,\"precision\":18,\"scale\":4},{\"columnNumber\":7,\"columnName\":\"Trend\",\"columnTypeName\":\"DECIMAL\",\"length\":4,\"precision\":18,\"scale\":4},{\"columnNumber\":8,\"columnName\":\"ReserveX\",\"columnTypeName\":\"DECIMAL\",\"length\":4,\"precision\":18,\"scale\":4},{\"columnNumber\":9,\"columnName\":\"Reserve Horizon\",\"columnTypeName\":\"DECIMAL\",\"length\":4,\"precision\":18,\"scale\":4},{\"columnNumber\":10,\"columnName\":\"SlopeX\",\"columnTypeName\":\"DECIMAL\",\"length\":4,\"precision\":18,\"scale\":4}]}"
     },
     "output_type": "execute_result"
    }
   ],
   "source": [
    "Select top 10 * from adlste_coa.coa_dat_level1_CPU_Forecast"
   ]
  },
  {
   "cell_type": "code",
   "execution_count": 8,
   "metadata": {},
   "outputs": [
    {
     "data": {
      "text/plain": [
       "Success: 0 rows affected"
      ]
     },
     "execution_count": 8,
     "metadata": {
      "application/vnd.teradata.resultset": ""
     },
     "output_type": "execute_result"
    }
   ],
   "source": [
    "REPLACE PROCEDURE adlste_coa.sp_dat_level1_CPU_Forecast ( fileset_version VARCHAR(128) )\n",
    "/* previously: adlste_westcomm.consumption_cpu_forecast_sp  */\n",
    "SQL SECURITY CREATOR\n",
    "BEGIN\n",
    "  --call sp_audit_Account_Name ('adlste_coa.stg_dat_dbcinfo', 'sp_dat_dbcinfo', '{}');\n",
    "  --call sp_audit_Site_ID ('adlste_coa.stg_dat_dbcinfo', 'sp_dat_dbcinfo', '{}');\n",
    "\n",
    "  delete from ADLSTE_COA.coa_dat_level1_CPU_Forecast\n",
    "  where   (SiteID, \"Log Date\") in\n",
    "   (Select SiteID, \"Log Date\" From ADLSTE_COA_Stg.stg_dat_level1_CPU_Forecast);\n",
    "\n",
    "  Insert into ADLSTE_COA.coa_dat_level1_CPU_Forecast\n",
    "  Select * From ADLSTE_COA_Stg.stg_dat_level1_CPU_Forecast;\n",
    "END;\n"
   ]
  },
  {
   "cell_type": "code",
   "execution_count": 9,
   "metadata": {},
   "outputs": [
    {
     "data": {
      "text/plain": [
       "Success: 0 rows affected"
      ]
     },
     "execution_count": 9,
     "metadata": {
      "application/vnd.teradata.resultset": ""
     },
     "output_type": "execute_result"
    }
   ],
   "source": [
    "call adlste_coa.sp_dat_level1_CPU_Forecast('v1')"
   ]
  },
  {
   "cell_type": "markdown",
   "metadata": {},
   "source": [
    "<br/><br/><br/>\n",
    "## IO Trend"
   ]
  },
  {
   "cell_type": "code",
   "execution_count": null,
   "metadata": {},
   "outputs": [],
   "source": [
    "drop table ADLSTE_coa_stg.stg_dat_level1_IO_Forecast"
   ]
  },
  {
   "cell_type": "code",
   "execution_count": 33,
   "metadata": {},
   "outputs": [
    {
     "data": {
      "text/plain": [
       "Success: 0 rows affected"
      ]
     },
     "execution_count": 33,
     "metadata": {
      "application/vnd.teradata.resultset": ""
     },
     "output_type": "execute_result"
    }
   ],
   "source": [
    "CREATE MULTISET GLOBAL TEMPORARY TABLE ADLSTE_coa_stg.stg_dat_level1_IO_Forecast \n",
    "(\n",
    "    SiteID VARCHAR(1024) CHARACTER SET UNICODE NOT CASESPECIFIC,\n",
    "    \"Report Date\" VARCHAR(1024) CHARACTER SET UNICODE NOT CASESPECIFIC,\n",
    "    \"Log Date\" VARCHAR(1024) CHARACTER SET UNICODE NOT CASESPECIFIC,\n",
    "    \"Peak Start\" VARCHAR(1024) CHARACTER SET UNICODE NOT CASESPECIFIC,\n",
    "    \"Peak End\" VARCHAR(1024) CHARACTER SET UNICODE NOT CASESPECIFIC,\n",
    "    \"Avg I/O Pct\" VARCHAR(1024) CHARACTER SET UNICODE NOT CASESPECIFIC,\n",
    "    \"Moving Avg\" VARCHAR(1024) CHARACTER SET UNICODE NOT CASESPECIFIC,\n",
    "    Trend VARCHAR(1024) CHARACTER SET UNICODE NOT CASESPECIFIC,\n",
    "    ReserveX BIGINT,\n",
    "    \"Reserve Horizon\" VARCHAR(1024) CHARACTER SET UNICODE NOT CASESPECIFIC,\n",
    "    SlopeX VARCHAR(1024) CHARACTER SET UNICODE NOT CASESPECIFIC)\n",
    "    PRIMARY INDEX ( SiteID ,\"Report Date\" ,\"Log Date\" \n",
    ")\n",
    "ON COMMIT PRESERVE ROWS;"
   ]
  },
  {
   "cell_type": "code",
   "execution_count": 34,
   "metadata": {},
   "outputs": [
    {
     "data": {
      "text/plain": [
       "Success: 0 rows affected"
      ]
     },
     "execution_count": 34,
     "metadata": {
      "application/vnd.teradata.resultset": ""
     },
     "output_type": "execute_result"
    }
   ],
   "source": [
    "CREATE SET TABLE ADLSTE_coa.coat_dat_level1_IO_Forecast  \n",
    "(\n",
    "    SiteID VARCHAR(30) CHARACTER SET LATIN NOT CASESPECIFIC NOT NULL,\n",
    "    \"Report Date\" DATE FORMAT 'YYYY-MM-DD' NOT NULL,\n",
    "    \"Log Date\" DATE FORMAT 'YYYY-MM-DD' NOT NULL,\n",
    "    \"Peak Start\" VARCHAR(30) CHARACTER SET LATIN NOT CASESPECIFIC,\n",
    "    \"Peak End\" VARCHAR(30) CHARACTER SET LATIN NOT CASESPECIFIC,\n",
    "    \"Avg IO Pct\" DECIMAL(18,4),\n",
    "    \"Moving Avg\" DECIMAL(18,4),\n",
    "    Trend DECIMAL(18,4),\n",
    "    ReserveX DECIMAL(18,4),\n",
    "    \"Reserve Horizon\" DECIMAL(18,4),\n",
    "    SlopeX DECIMAL(18,4)\n",
    ")\n",
    "UNIQUE PRIMARY INDEX ( SiteID ,\"Report Date\" ,\"Log Date\" );"
   ]
  },
  {
   "cell_type": "code",
   "execution_count": 35,
   "metadata": {},
   "outputs": [
    {
     "data": {
      "text/plain": [
       "Success: 0 rows affected"
      ]
     },
     "execution_count": 35,
     "metadata": {
      "application/vnd.teradata.resultset": ""
     },
     "output_type": "execute_result"
    }
   ],
   "source": [
    "replace view  ADLSTE_COA.coa_dat_level1_IO_Forecast as locking row for access\n",
    "Select * from ADLSTE_COA.coat_dat_level1_IO_Forecast"
   ]
  },
  {
   "cell_type": "code",
   "execution_count": 38,
   "metadata": {},
   "outputs": [
    {
     "data": {
      "text/plain": [
       "Success: 42565 rows affected"
      ]
     },
     "execution_count": 38,
     "metadata": {
      "application/vnd.teradata.resultset": ""
     },
     "output_type": "execute_result"
    }
   ],
   "source": [
    "insert into ADLSTE_COA.coat_dat_level1_IO_Forecast\n",
    "Select * from ADLSTE_WestComm.Consumption_IO_Forecast_V2;"
   ]
  },
  {
   "cell_type": "code",
   "execution_count": 36,
   "metadata": {},
   "outputs": [
    {
     "data": {
      "text/plain": [
       "Success: 0 rows affected"
      ]
     },
     "execution_count": 36,
     "metadata": {
      "application/vnd.teradata.resultset": ""
     },
     "output_type": "execute_result"
    }
   ],
   "source": [
    "REPLACE PROCEDURE adlste_coa.sp_dat_level1_IO_Forecast ( fileset_version VARCHAR(128) )\n",
    "SQL SECURITY CREATOR\n",
    "BEGIN\n",
    "  --call sp_audit_Account_Name ('adlste_coa.stg_dat_dbcinfo', 'sp_dat_dbcinfo', '{}');\n",
    "  --call sp_audit_Site_ID ('adlste_coa.stg_dat_dbcinfo', 'sp_dat_dbcinfo', '{}');\n",
    "\n",
    "  delete from ADLSTE_COA.coa_dat_level1_IO_Forecast\n",
    "  where   (SiteID, \"Log Date\") in\n",
    "   (Select SiteID, \"Log Date\" From ADLSTE_COA_Stg.stg_dat_level1_IO_Forecast);\n",
    "\n",
    "  Insert into ADLSTE_COA.coa_dat_level1_IO_Forecast\n",
    "  Select * From ADLSTE_COA_Stg.stg_dat_level1_IO_Forecast;\n",
    "END;\n"
   ]
  },
  {
   "cell_type": "code",
   "execution_count": 37,
   "metadata": {},
   "outputs": [
    {
     "data": {
      "text/plain": [
       "Success: 0 rows affected"
      ]
     },
     "execution_count": 37,
     "metadata": {
      "application/vnd.teradata.resultset": ""
     },
     "output_type": "execute_result"
    }
   ],
   "source": [
    "call adlste_coa.sp_dat_level1_IO_Forecast('v2')"
   ]
  },
  {
   "cell_type": "code",
   "execution_count": null,
   "metadata": {},
   "outputs": [],
   "source": []
  },
  {
   "cell_type": "markdown",
   "metadata": {},
   "source": [
    "<br/><br/><br/>\n",
    "## Storage Trend"
   ]
  },
  {
   "cell_type": "code",
   "execution_count": 45,
   "metadata": {},
   "outputs": [
    {
     "data": {
      "text/plain": [
       "Success: 28 rows affected"
      ]
     },
     "execution_count": 45,
     "metadata": {
      "application/vnd.teradata.resultset": ""
     },
     "output_type": "execute_result"
    }
   ],
   "source": [
    "drop table ADLSTE_coa_stg.stg_dat_level1_Storage_Forecast"
   ]
  },
  {
   "cell_type": "code",
   "execution_count": 47,
   "metadata": {},
   "outputs": [
    {
     "data": {
      "text/plain": [
       "Success: 0 rows affected"
      ]
     },
     "execution_count": 47,
     "metadata": {
      "application/vnd.teradata.resultset": ""
     },
     "output_type": "execute_result"
    }
   ],
   "source": [
    "CREATE MULTISET GLOBAL TEMPORARY TABLE ADLSTE_coa_stg.stg_dat_level1_Storage_Forecast \n",
    "(\n",
    "      SiteID VARCHAR(30) CHARACTER SET LATIN NOT CASESPECIFIC NOT NULL,\n",
    "      \"Report Date\" DATE FORMAT 'YYYY-MM-DD' NOT NULL,\n",
    "      \"Log Date\" DATE FORMAT 'YYYY-MM-DD' NOT NULL,\n",
    "      \"Total Max Perm\" BIGINT,\n",
    "      \"Total Current Perm\" BIGINT,\n",
    "      \"Total Peak Perm\" BIGINT,\n",
    "      \"Total Available Perm\" BIGINT,\n",
    "      \"Total Current Pct\" DECIMAL(18,4),\n",
    "      \"Total Available Pct\" DECIMAL(18,4),\n",
    "      \"Moving Avg\" DECIMAL(18,4),\n",
    "      Trend DECIMAL(18,4),\n",
    "      ReserveX DECIMAL(18,4),\n",
    "      \"Reserve Horizon\" DECIMAL(18,4),\n",
    "      SlopeX DECIMAL(18,4)\n",
    ")\n",
    "ON COMMIT PRESERVE ROWS;"
   ]
  },
  {
   "cell_type": "code",
   "execution_count": 40,
   "metadata": {},
   "outputs": [
    {
     "data": {
      "text/plain": [
       "Success: 0 rows affected"
      ]
     },
     "execution_count": 40,
     "metadata": {
      "application/vnd.teradata.resultset": ""
     },
     "output_type": "execute_result"
    }
   ],
   "source": [
    "CREATE SET TABLE ADLSTE_coa.coat_dat_level1_Storage_Forecast ,FALLBACK ,\n",
    "     NO BEFORE JOURNAL,\n",
    "     NO AFTER JOURNAL,\n",
    "     CHECKSUM = DEFAULT,\n",
    "     DEFAULT MERGEBLOCKRATIO\n",
    "     (\n",
    "      SiteID VARCHAR(30) CHARACTER SET LATIN NOT CASESPECIFIC NOT NULL,\n",
    "      \"Report Date\" DATE FORMAT 'YYYY-MM-DD' NOT NULL,\n",
    "      \"Log Date\" DATE FORMAT 'YYYY-MM-DD' NOT NULL,\n",
    "      \"Total Max Perm\" BIGINT,\n",
    "      \"Total Current Perm\" BIGINT,\n",
    "      \"Total Peak Perm\" BIGINT,\n",
    "      \"Total Available Perm\" BIGINT,\n",
    "      \"Total Current Pct\" DECIMAL(18,4),\n",
    "      \"Total Available Pct\" DECIMAL(18,4),\n",
    "      \"Moving Avg\" DECIMAL(18,4),\n",
    "      Trend DECIMAL(18,4),\n",
    "      ReserveX DECIMAL(18,4),\n",
    "      \"Reserve Horizon\" DECIMAL(18,4),\n",
    "      SlopeX DECIMAL(18,4))\n",
    "UNIQUE PRIMARY INDEX ( SiteID ,\"Report Date\" ,\"Log Date\" );"
   ]
  },
  {
   "cell_type": "code",
   "execution_count": 48,
   "metadata": {},
   "outputs": [
    {
     "data": {
      "text/plain": [
       "Success: 0 rows affected"
      ]
     },
     "execution_count": 48,
     "metadata": {
      "application/vnd.teradata.resultset": ""
     },
     "output_type": "execute_result"
    }
   ],
   "source": [
    "insert into ADLSTE_COA.coat_dat_level1_Storage_Forecast\n",
    "Select * from ADLSTE_WestComm.Consumption_Storage_Forecast_V2;"
   ]
  },
  {
   "cell_type": "code",
   "execution_count": 49,
   "metadata": {},
   "outputs": [
    {
     "data": {
      "text/plain": [
       "Success: 15 rows affected"
      ]
     },
     "execution_count": 49,
     "metadata": {
      "application/vnd.teradata.resultset": ""
     },
     "output_type": "execute_result"
    }
   ],
   "source": [
    "replace view  ADLSTE_COA.coa_dat_level1_Storage_Forecast as locking row for access\n",
    "Select * from ADLSTE_COA.coat_dat_level1_Storage_Forecast"
   ]
  },
  {
   "cell_type": "code",
   "execution_count": 50,
   "metadata": {},
   "outputs": [
    {
     "data": {
      "text/plain": [
       "Success: 0 rows affected"
      ]
     },
     "execution_count": 50,
     "metadata": {
      "application/vnd.teradata.resultset": ""
     },
     "output_type": "execute_result"
    }
   ],
   "source": [
    "REPLACE PROCEDURE adlste_coa.sp_dat_level1_Storage_Forecast ( fileset_version VARCHAR(128) )\n",
    "SQL SECURITY CREATOR\n",
    "BEGIN\n",
    "  --call sp_audit_Account_Name ('adlste_coa.stg_dat_dbcinfo', 'sp_dat_dbcinfo', '{}');\n",
    "  --call sp_audit_Site_ID ('adlste_coa.stg_dat_dbcinfo', 'sp_dat_dbcinfo', '{}');\n",
    "\n",
    "  delete from ADLSTE_COA.coa_dat_level1_Storage_Forecast\n",
    "  where   (SiteID, \"Log Date\") in\n",
    "   (Select SiteID, \"Log Date\" From ADLSTE_COA_Stg.stg_dat_level1_Storage_Forecast);\n",
    "\n",
    "  Insert into ADLSTE_COA.coa_dat_level1_Storage_Forecast\n",
    "  Select * From ADLSTE_COA_Stg.stg_dat_level1_Storage_Forecast;\n",
    "END;\n"
   ]
  },
  {
   "cell_type": "code",
   "execution_count": 51,
   "metadata": {},
   "outputs": [
    {
     "data": {
      "text/plain": [
       "Success: 0 rows affected"
      ]
     },
     "execution_count": 51,
     "metadata": {
      "application/vnd.teradata.resultset": ""
     },
     "output_type": "execute_result"
    }
   ],
   "source": [
    "call adlste_coa.sp_dat_level1_Storage_Forecast('v2')"
   ]
  },
  {
   "cell_type": "code",
   "execution_count": null,
   "metadata": {},
   "outputs": [],
   "source": []
  }
 ],
 "metadata": {
  "kernelspec": {
   "display_name": "Teradata SQL",
   "language": "Teradata SQL",
   "name": "teradatasql"
  },
  "language_info": {
   "codemirror_mode": "Teradata SQL",
   "file_extension": ".tdrs",
   "mimetype": "application/vnd.teradata.resultset",
   "name": "Teradata SQL",
   "nbconvert_exporter": "",
   "pygments_lexer": "",
   "version": "16.20"
  }
 },
 "nbformat": 4,
 "nbformat_minor": 2
}
